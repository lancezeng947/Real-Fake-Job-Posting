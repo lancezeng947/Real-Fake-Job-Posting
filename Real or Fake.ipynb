{
 "cells": [
  {
   "cell_type": "code",
   "execution_count": 1,
   "metadata": {},
   "outputs": [],
   "source": [
    "import pandas as pd\n",
    "import numpy as np\n",
    "import re\n",
    "import seaborn as sns\n",
    "import matplotlib.pyplot as plt\n",
    "import math\n",
    "\n",
    "%matplotlib inline"
   ]
  },
  {
   "cell_type": "markdown",
   "metadata": {},
   "source": [
    "# Initial Data Load"
   ]
  },
  {
   "cell_type": "code",
   "execution_count": 2,
   "metadata": {},
   "outputs": [],
   "source": [
    "data = pd.read_csv('fake_job_postings.csv')"
   ]
  },
  {
   "cell_type": "code",
   "execution_count": 3,
   "metadata": {},
   "outputs": [
    {
     "data": {
      "text/plain": [
       "(17880, 18)"
      ]
     },
     "execution_count": 3,
     "metadata": {},
     "output_type": "execute_result"
    }
   ],
   "source": [
    "data.shape"
   ]
  },
  {
   "cell_type": "code",
   "execution_count": 4,
   "metadata": {},
   "outputs": [
    {
     "data": {
      "text/html": [
       "<div>\n",
       "<style scoped>\n",
       "    .dataframe tbody tr th:only-of-type {\n",
       "        vertical-align: middle;\n",
       "    }\n",
       "\n",
       "    .dataframe tbody tr th {\n",
       "        vertical-align: top;\n",
       "    }\n",
       "\n",
       "    .dataframe thead th {\n",
       "        text-align: right;\n",
       "    }\n",
       "</style>\n",
       "<table border=\"1\" class=\"dataframe\">\n",
       "  <thead>\n",
       "    <tr style=\"text-align: right;\">\n",
       "      <th></th>\n",
       "      <th>job_id</th>\n",
       "      <th>title</th>\n",
       "      <th>location</th>\n",
       "      <th>department</th>\n",
       "      <th>salary_range</th>\n",
       "      <th>company_profile</th>\n",
       "      <th>description</th>\n",
       "      <th>requirements</th>\n",
       "      <th>benefits</th>\n",
       "      <th>telecommuting</th>\n",
       "      <th>has_company_logo</th>\n",
       "      <th>has_questions</th>\n",
       "      <th>employment_type</th>\n",
       "      <th>required_experience</th>\n",
       "      <th>required_education</th>\n",
       "      <th>industry</th>\n",
       "      <th>function</th>\n",
       "      <th>fraudulent</th>\n",
       "    </tr>\n",
       "  </thead>\n",
       "  <tbody>\n",
       "    <tr>\n",
       "      <th>0</th>\n",
       "      <td>1</td>\n",
       "      <td>Marketing Intern</td>\n",
       "      <td>US, NY, New York</td>\n",
       "      <td>Marketing</td>\n",
       "      <td>NaN</td>\n",
       "      <td>We're Food52, and we've created a groundbreaki...</td>\n",
       "      <td>Food52, a fast-growing, James Beard Award-winn...</td>\n",
       "      <td>Experience with content management systems a m...</td>\n",
       "      <td>NaN</td>\n",
       "      <td>0</td>\n",
       "      <td>1</td>\n",
       "      <td>0</td>\n",
       "      <td>Other</td>\n",
       "      <td>Internship</td>\n",
       "      <td>NaN</td>\n",
       "      <td>NaN</td>\n",
       "      <td>Marketing</td>\n",
       "      <td>0</td>\n",
       "    </tr>\n",
       "    <tr>\n",
       "      <th>1</th>\n",
       "      <td>2</td>\n",
       "      <td>Customer Service - Cloud Video Production</td>\n",
       "      <td>NZ, , Auckland</td>\n",
       "      <td>Success</td>\n",
       "      <td>NaN</td>\n",
       "      <td>90 Seconds, the worlds Cloud Video Production ...</td>\n",
       "      <td>Organised - Focused - Vibrant - Awesome!Do you...</td>\n",
       "      <td>What we expect from you:Your key responsibilit...</td>\n",
       "      <td>What you will get from usThrough being part of...</td>\n",
       "      <td>0</td>\n",
       "      <td>1</td>\n",
       "      <td>0</td>\n",
       "      <td>Full-time</td>\n",
       "      <td>Not Applicable</td>\n",
       "      <td>NaN</td>\n",
       "      <td>Marketing and Advertising</td>\n",
       "      <td>Customer Service</td>\n",
       "      <td>0</td>\n",
       "    </tr>\n",
       "    <tr>\n",
       "      <th>2</th>\n",
       "      <td>3</td>\n",
       "      <td>Commissioning Machinery Assistant (CMA)</td>\n",
       "      <td>US, IA, Wever</td>\n",
       "      <td>NaN</td>\n",
       "      <td>NaN</td>\n",
       "      <td>Valor Services provides Workforce Solutions th...</td>\n",
       "      <td>Our client, located in Houston, is actively se...</td>\n",
       "      <td>Implement pre-commissioning and commissioning ...</td>\n",
       "      <td>NaN</td>\n",
       "      <td>0</td>\n",
       "      <td>1</td>\n",
       "      <td>0</td>\n",
       "      <td>NaN</td>\n",
       "      <td>NaN</td>\n",
       "      <td>NaN</td>\n",
       "      <td>NaN</td>\n",
       "      <td>NaN</td>\n",
       "      <td>0</td>\n",
       "    </tr>\n",
       "    <tr>\n",
       "      <th>3</th>\n",
       "      <td>4</td>\n",
       "      <td>Account Executive - Washington DC</td>\n",
       "      <td>US, DC, Washington</td>\n",
       "      <td>Sales</td>\n",
       "      <td>NaN</td>\n",
       "      <td>Our passion for improving quality of life thro...</td>\n",
       "      <td>THE COMPANY: ESRI – Environmental Systems Rese...</td>\n",
       "      <td>EDUCATION: Bachelor’s or Master’s in GIS, busi...</td>\n",
       "      <td>Our culture is anything but corporate—we have ...</td>\n",
       "      <td>0</td>\n",
       "      <td>1</td>\n",
       "      <td>0</td>\n",
       "      <td>Full-time</td>\n",
       "      <td>Mid-Senior level</td>\n",
       "      <td>Bachelor's Degree</td>\n",
       "      <td>Computer Software</td>\n",
       "      <td>Sales</td>\n",
       "      <td>0</td>\n",
       "    </tr>\n",
       "    <tr>\n",
       "      <th>4</th>\n",
       "      <td>5</td>\n",
       "      <td>Bill Review Manager</td>\n",
       "      <td>US, FL, Fort Worth</td>\n",
       "      <td>NaN</td>\n",
       "      <td>NaN</td>\n",
       "      <td>SpotSource Solutions LLC is a Global Human Cap...</td>\n",
       "      <td>JOB TITLE: Itemization Review ManagerLOCATION:...</td>\n",
       "      <td>QUALIFICATIONS:RN license in the State of Texa...</td>\n",
       "      <td>Full Benefits Offered</td>\n",
       "      <td>0</td>\n",
       "      <td>1</td>\n",
       "      <td>1</td>\n",
       "      <td>Full-time</td>\n",
       "      <td>Mid-Senior level</td>\n",
       "      <td>Bachelor's Degree</td>\n",
       "      <td>Hospital &amp; Health Care</td>\n",
       "      <td>Health Care Provider</td>\n",
       "      <td>0</td>\n",
       "    </tr>\n",
       "  </tbody>\n",
       "</table>\n",
       "</div>"
      ],
      "text/plain": [
       "   job_id                                      title            location  \\\n",
       "0       1                           Marketing Intern    US, NY, New York   \n",
       "1       2  Customer Service - Cloud Video Production      NZ, , Auckland   \n",
       "2       3    Commissioning Machinery Assistant (CMA)       US, IA, Wever   \n",
       "3       4          Account Executive - Washington DC  US, DC, Washington   \n",
       "4       5                        Bill Review Manager  US, FL, Fort Worth   \n",
       "\n",
       "  department salary_range                                    company_profile  \\\n",
       "0  Marketing          NaN  We're Food52, and we've created a groundbreaki...   \n",
       "1    Success          NaN  90 Seconds, the worlds Cloud Video Production ...   \n",
       "2        NaN          NaN  Valor Services provides Workforce Solutions th...   \n",
       "3      Sales          NaN  Our passion for improving quality of life thro...   \n",
       "4        NaN          NaN  SpotSource Solutions LLC is a Global Human Cap...   \n",
       "\n",
       "                                         description  \\\n",
       "0  Food52, a fast-growing, James Beard Award-winn...   \n",
       "1  Organised - Focused - Vibrant - Awesome!Do you...   \n",
       "2  Our client, located in Houston, is actively se...   \n",
       "3  THE COMPANY: ESRI – Environmental Systems Rese...   \n",
       "4  JOB TITLE: Itemization Review ManagerLOCATION:...   \n",
       "\n",
       "                                        requirements  \\\n",
       "0  Experience with content management systems a m...   \n",
       "1  What we expect from you:Your key responsibilit...   \n",
       "2  Implement pre-commissioning and commissioning ...   \n",
       "3  EDUCATION: Bachelor’s or Master’s in GIS, busi...   \n",
       "4  QUALIFICATIONS:RN license in the State of Texa...   \n",
       "\n",
       "                                            benefits  telecommuting  \\\n",
       "0                                                NaN              0   \n",
       "1  What you will get from usThrough being part of...              0   \n",
       "2                                                NaN              0   \n",
       "3  Our culture is anything but corporate—we have ...              0   \n",
       "4                              Full Benefits Offered              0   \n",
       "\n",
       "   has_company_logo  has_questions employment_type required_experience  \\\n",
       "0                 1              0           Other          Internship   \n",
       "1                 1              0       Full-time      Not Applicable   \n",
       "2                 1              0             NaN                 NaN   \n",
       "3                 1              0       Full-time    Mid-Senior level   \n",
       "4                 1              1       Full-time    Mid-Senior level   \n",
       "\n",
       "  required_education                   industry              function  \\\n",
       "0                NaN                        NaN             Marketing   \n",
       "1                NaN  Marketing and Advertising      Customer Service   \n",
       "2                NaN                        NaN                   NaN   \n",
       "3  Bachelor's Degree          Computer Software                 Sales   \n",
       "4  Bachelor's Degree     Hospital & Health Care  Health Care Provider   \n",
       "\n",
       "   fraudulent  \n",
       "0           0  \n",
       "1           0  \n",
       "2           0  \n",
       "3           0  \n",
       "4           0  "
      ]
     },
     "execution_count": 4,
     "metadata": {},
     "output_type": "execute_result"
    }
   ],
   "source": [
    "data.head(5)"
   ]
  },
  {
   "cell_type": "markdown",
   "metadata": {},
   "source": [
    "# Data Exploration"
   ]
  },
  {
   "cell_type": "code",
   "execution_count": 5,
   "metadata": {},
   "outputs": [
    {
     "data": {
      "text/plain": [
       "job_id                 False\n",
       "title                  False\n",
       "location                True\n",
       "department              True\n",
       "salary_range            True\n",
       "company_profile         True\n",
       "description             True\n",
       "requirements            True\n",
       "benefits                True\n",
       "telecommuting          False\n",
       "has_company_logo       False\n",
       "has_questions          False\n",
       "employment_type         True\n",
       "required_experience     True\n",
       "required_education      True\n",
       "industry                True\n",
       "function                True\n",
       "fraudulent             False\n",
       "dtype: bool"
      ]
     },
     "execution_count": 5,
     "metadata": {},
     "output_type": "execute_result"
    }
   ],
   "source": [
    "data.isna().any()"
   ]
  },
  {
   "cell_type": "code",
   "execution_count": 11,
   "metadata": {},
   "outputs": [
    {
     "name": "stdout",
     "output_type": "stream",
     "text": [
      "Proportion of fraud: 0.04843\n",
      "Total accounts of fraud: 866\n"
     ]
    },
    {
     "data": {
      "image/png": "[encoded data removed]",
      "text/plain": [
       "<Figure size 360x360 with 1 Axes>"
      ]
     },
     "metadata": {
      "needs_background": "light"
     },
     "output_type": "display_data"
    }
   ],
   "source": [
    "data['fraudulent'].value_counts()\n",
    "\n",
    "f, ax = plt.subplots(figsize=(5,5))\n",
    "sns.barplot(x=['Not Fraudulent', 'Fraudulent'], y=data['fraudulent'].value_counts(), ax=ax)\n",
    "\n",
    "ax.set_title('Distribution of Labels')\n",
    "ax.set_ylabel('Count');\n",
    "\n",
    "print(\"Proportion of fraud: {}\".format(round(np.mean(data['fraudulent']),5)))\n",
    "print(\"Total accounts of fraud: {}\".format(sum(data['fraudulent'])))"
   ]
  },
  {
   "cell_type": "code",
   "execution_count": 45,
   "metadata": {},
   "outputs": [
    {
     "name": "stdout",
     "output_type": "stream",
     "text": [
      "job_id: 0.0\n",
      "title: 0.0\n",
      "location: 0.02\n",
      "department: 0.65\n",
      "salary_range: 0.84\n",
      "company_profile: 0.19\n",
      "description: 0.0\n",
      "requirements: 0.15\n",
      "benefits: 0.4\n",
      "telecommuting: 0.0\n",
      "has_company_logo: 0.0\n",
      "has_questions: 0.0\n",
      "employment_type: 0.0\n",
      "required_experience: 0.39\n",
      "required_education: 0.45\n",
      "industry: 0.27\n",
      "function: 0.36\n",
      "fraudulent: 0.0\n",
      "has_salary: 0.0\n",
      "num_links: 0.0\n",
      "num_nums: 0.0\n",
      "num_punct: 0.0\n",
      "description_length: 0.0\n"
     ]
    }
   ],
   "source": [
    "for column in data.columns:\n",
    "    print('{}:'.format(column), round(sum(data[column].isna()) / data.shape[0],2))"
   ]
  },
  {
   "cell_type": "markdown",
   "metadata": {},
   "source": [
    "Categorical variables that might be worth exploring (small # of separable groups):\n",
    "\n",
    "    1. Employment Type (6 classes, 19% missing)\n",
    "    2. Required Experience (8 classes, 39% missing) - Too many missing\n",
    "    3. Required Education (14 classes, 45% missing) - Too many missing"
   ]
  },
  {
   "cell_type": "code",
   "execution_count": 14,
   "metadata": {},
   "outputs": [
    {
     "name": "stdout",
     "output_type": "stream",
     "text": [
      "# of unique titles:  11231\n",
      "# of unique locations:  3106\n",
      "# of unique departments:  1338\n",
      "# of unique salary ranges:  875\n",
      "# of unique employment type:  6\n",
      "# of unique required experiences:  8\n",
      "# of unique required education:  14\n",
      "# of unique industries:  132\n",
      "# of unique functions:  38\n"
     ]
    }
   ],
   "source": [
    "#Breadth of categorical variables:\n",
    "print('# of unique titles: ', len(set(data['title'])))\n",
    "print('# of unique locations: ', len(set(data['location'])))\n",
    "print('# of unique departments: ', len(set(data['department'])))\n",
    "print('# of unique salary ranges: ', len(set(data['salary_range'])))\n",
    "print('# of unique employment type: ', len(set(data['employment_type'])))\n",
    "print('# of unique required experiences: ', len(set(data['required_experience'])))\n",
    "print('# of unique required education: ', len(set(data['required_education'])))\n",
    "print('# of unique industries: ', len(set(data['industry'])))\n",
    "print('# of unique functions: ', len(set(data['function'])))\n",
    "\n",
    "data['employment_type'].fillna('None', inplace = True)"
   ]
  },
  {
   "cell_type": "markdown",
   "metadata": {},
   "source": [
    "### Employment Type Analysis:"
   ]
  },
  {
   "cell_type": "code",
   "execution_count": 15,
   "metadata": {},
   "outputs": [],
   "source": [
    "employment_group = data.groupby('employment_type').count()['job_id']\n",
    "employment_group = employment_group / sum(employment_group)\n",
    "\n",
    "fraudelent_set = data[data['fraudulent'] == 1].copy()\n",
    "fraudulent_group = fraudelent_set.groupby('employment_type').count()['job_id']\n",
    "fraudulent_group = fraudulent_group / sum(fraudulent_group)\n",
    "\n",
    "combined_employ_group = pd.concat([pd.DataFrame(employment_group), pd.DataFrame(fraudulent_group)], axis = 0)\n",
    "combined_employ_group['fraud'] = [0,0,0,0,0,0,1,1,1,1,1,1]\n",
    "combined_employ_group['employment_type'] = combined_employ_group.index"
   ]
  },
  {
   "cell_type": "code",
   "execution_count": 16,
   "metadata": {},
   "outputs": [
    {
     "data": {
      "image/png": "[encoded data removed]",
      "text/plain": [
       "<Figure size 765.725x360 with 1 Axes>"
      ]
     },
     "metadata": {},
     "output_type": "display_data"
    }
   ],
   "source": [
    "sns.set(style=\"whitegrid\")\n",
    "sns.catplot(x='employment_type', y='job_id', hue='fraud', data=combined_employ_group, kind='bar', height=5, aspect=2)\n",
    "\n",
    "plt.title('Proportion of Postings by Employment Type')\n",
    "plt.xlabel('Employment Type')\n",
    "plt.ylabel('Proportion');\n",
    "\n",
    "#Fraud slightly overpresented in the None and Part-time job categories"
   ]
  },
  {
   "cell_type": "code",
   "execution_count": 17,
   "metadata": {},
   "outputs": [
    {
     "data": {
      "text/plain": [
       "employment_type\n",
       "Contract     0.028871\n",
       "Full-time    0.042169\n",
       "None         0.069432\n",
       "Other        0.066079\n",
       "Part-time    0.092848\n",
       "Temporary    0.008299\n",
       "Name: fraudulent, dtype: float64"
      ]
     },
     "execution_count": 17,
     "metadata": {},
     "output_type": "execute_result"
    }
   ],
   "source": [
    "data.groupby('employment_type').mean()['fraudulent']"
   ]
  },
  {
   "cell_type": "markdown",
   "metadata": {},
   "source": [
    "### Salary Analysis:"
   ]
  },
  {
   "cell_type": "markdown",
   "metadata": {},
   "source": [
    "Ranges vary widely (and not all measured at the same rate or currency); we'll look at whether or not salary information is included or not."
   ]
  },
  {
   "cell_type": "code",
   "execution_count": 20,
   "metadata": {},
   "outputs": [
    {
     "data": {
      "text/plain": [
       "has_salary\n",
       "False    0.042832\n",
       "True     0.077755\n",
       "Name: fraudulent, dtype: float64"
      ]
     },
     "execution_count": 20,
     "metadata": {},
     "output_type": "execute_result"
    }
   ],
   "source": [
    "data['has_salary'] = ~data['salary_range'].isnull()\n",
    "\n",
    "salary_group = data.groupby('has_salary').mean()['fraudulent']\n",
    "salary_group"
   ]
  },
  {
   "cell_type": "code",
   "execution_count": 21,
   "metadata": {},
   "outputs": [
    {
     "data": {
      "text/plain": [
       "Text(0.5, 0, 'Includes Salary Detail')"
      ]
     },
     "execution_count": 21,
     "metadata": {},
     "output_type": "execute_result"
    },
    {
     "data": {
      "image/png": "[encoded data removed]",
      "text/plain": [
       "<Figure size 648x648 with 2 Axes>"
      ]
     },
     "metadata": {},
     "output_type": "display_data"
    }
   ],
   "source": [
    "f, ax = plt.subplots(1, 2, figsize=(9,9))\n",
    "sns.barplot(x=data.has_salary.value_counts().index, y = data.has_salary.value_counts().values, ax=ax[0])\n",
    "sns.barplot(x=salary_group.index, y=salary_group.values, ax=ax[1])\n",
    "\n",
    "ax[0].set_title('Distribution of Salary Detail Included')\n",
    "ax[1].set_title('Proportion of Fraudulent Postings by Salary Inclusion')\n",
    "ax[0].set_xlabel('Includes Salary Detail')\n",
    "ax[1].set_xlabel('Includes Salary Detail')\n",
    "#Fraudulent jobs overrepresented in job postings with salaries:"
   ]
  },
  {
   "cell_type": "markdown",
   "metadata": {},
   "source": [
    "### Analysis of Job Description:"
   ]
  },
  {
   "cell_type": "code",
   "execution_count": 22,
   "metadata": {},
   "outputs": [],
   "source": [
    "from collections import Counter\n",
    "from gensim.parsing import preprocessing\n",
    "import nltk\n",
    "import string\n",
    "import html\n",
    "from lexical_diversity import lex_div as ld"
   ]
  },
  {
   "cell_type": "code",
   "execution_count": 23,
   "metadata": {},
   "outputs": [
    {
     "data": {
      "text/plain": [
       "False"
      ]
     },
     "execution_count": 23,
     "metadata": {},
     "output_type": "execute_result"
    }
   ],
   "source": [
    "corpus = data['description'].copy()\n",
    "corpus.fillna('', inplace = True)\n",
    "\n",
    "corpus.isnull().any()"
   ]
  },
  {
   "cell_type": "markdown",
   "metadata": {},
   "source": [
    "### Pipeline\n",
    "\n",
    "    1. Count Punctuation\n",
    "    2. Count Numbers\n",
    "    3. Count links"
   ]
  },
  {
   "cell_type": "code",
   "execution_count": 24,
   "metadata": {},
   "outputs": [],
   "source": [
    "def count_punctuation(text):\n",
    "    \n",
    "    count = 0\n",
    "    \n",
    "    c = Counter(text)\n",
    "    for item in string.punctuation:\n",
    "        try:\n",
    "            count+=c[item]\n",
    "        except:\n",
    "            pass\n",
    "    \n",
    "    return count\n",
    "\n",
    "def count_number(text):\n",
    "    \n",
    "    count = 0\n",
    "    \n",
    "    c = Counter(text)\n",
    "    for item in np.arange(0, 10).astype(str):\n",
    "        try:\n",
    "            count+=c[item]\n",
    "        except:\n",
    "            pass\n",
    "    \n",
    "    return count\n",
    "\n",
    "def find_url(text):\n",
    "    \n",
    "    #Observed pattern of urls:\n",
    "    url_pattern = re.compile(r'#URL.*?#')\n",
    "    \n",
    "    #See if this matches just the text URL or url:\n",
    "    url = re.compile(r'url|URL')\n",
    "    \n",
    "    return re.findall(url_pattern, text)\n",
    "    \n",
    "    "
   ]
  },
  {
   "cell_type": "code",
   "execution_count": 25,
   "metadata": {},
   "outputs": [],
   "source": [
    "urls = corpus.apply(lambda x: find_url(x))\n",
    "\n",
    "url_count = []\n",
    "\n",
    "for item in urls:\n",
    "    url_count.append(len(item))"
   ]
  },
  {
   "cell_type": "code",
   "execution_count": 52,
   "metadata": {},
   "outputs": [],
   "source": [
    "data['num_links'] = url_count\n",
    "data['num_nums'] = corpus.apply(lambda x: count_number(str(x)))\n",
    "data['num_punct'] = corpus.apply(lambda x: count_punctuation(str(x)))\n",
    "data['description_length'] = corpus.apply(lambda x: len(str(x)))"
   ]
  },
  {
   "cell_type": "markdown",
   "metadata": {},
   "source": [
    "### Fraud by Description Length:"
   ]
  },
  {
   "cell_type": "code",
   "execution_count": 71,
   "metadata": {},
   "outputs": [],
   "source": [
    "description_cuts = pd.qcut(data['description_length'], 4)\n",
    "description_group = data.groupby(description_cuts.values).mean()['fraudulent']"
   ]
  },
  {
   "cell_type": "code",
   "execution_count": 75,
   "metadata": {},
   "outputs": [
    {
     "data": {
      "image/png": "[encoded data removed]",
      "text/plain": [
       "<Figure size 648x648 with 1 Axes>"
      ]
     },
     "metadata": {},
     "output_type": "display_data"
    }
   ],
   "source": [
    "f, ax = plt.subplots(figsize = [9,9])\n",
    "\n",
    "ax = sns.barplot(x=description_group.index, y=description_group.values)\n",
    "ax.set_title('Proportion of Fraud by Character Count')\n",
    "ax.set_xlabel('Description Character Count')\n",
    "ax.set_ylabel('Proportion of Fraud');\n",
    "\n",
    "#Fraud slightly over-represented in shorter descriptors "
   ]
  },
  {
   "cell_type": "markdown",
   "metadata": {},
   "source": [
    "# Baseline models (W/O NLP)"
   ]
  },
  {
   "cell_type": "code",
   "execution_count": 27,
   "metadata": {},
   "outputs": [],
   "source": [
    "from sklearn.preprocessing import MultiLabelBinarizer\n",
    "from sklearn.model_selection import train_test_split, GridSearchCV\n",
    "from sklearn.linear_model import LogisticRegression\n",
    "from sklearn.ensemble import RandomForestClassifier\n",
    "from xgboost import XGBClassifier\n",
    "\n",
    "from sklearn.metrics import confusion_matrix, roc_auc_score, precision_score, recall_score, SCORERS"
   ]
  },
  {
   "cell_type": "code",
   "execution_count": 28,
   "metadata": {},
   "outputs": [
    {
     "data": {
      "text/plain": [
       "Index(['job_id', 'title', 'location', 'department', 'salary_range',\n",
       "       'company_profile', 'description', 'requirements', 'benefits',\n",
       "       'telecommuting', 'has_company_logo', 'has_questions', 'employment_type',\n",
       "       'required_experience', 'required_education', 'industry', 'function',\n",
       "       'fraudulent', 'has_salary', 'num_links', 'num_nums', 'num_punct',\n",
       "       'description_length'],\n",
       "      dtype='object')"
      ]
     },
     "execution_count": 28,
     "metadata": {},
     "output_type": "execute_result"
    }
   ],
   "source": [
    "data.columns"
   ]
  },
  {
   "cell_type": "markdown",
   "metadata": {},
   "source": [
    "### One-hot encode"
   ]
  },
  {
   "cell_type": "code",
   "execution_count": 29,
   "metadata": {},
   "outputs": [
    {
     "data": {
      "text/html": [
       "<div>\n",
       "<style scoped>\n",
       "    .dataframe tbody tr th:only-of-type {\n",
       "        vertical-align: middle;\n",
       "    }\n",
       "\n",
       "    .dataframe tbody tr th {\n",
       "        vertical-align: top;\n",
       "    }\n",
       "\n",
       "    .dataframe thead th {\n",
       "        text-align: right;\n",
       "    }\n",
       "</style>\n",
       "<table border=\"1\" class=\"dataframe\">\n",
       "  <thead>\n",
       "    <tr style=\"text-align: right;\">\n",
       "      <th></th>\n",
       "      <th>Contract</th>\n",
       "      <th>Full-time</th>\n",
       "      <th>None</th>\n",
       "      <th>Other</th>\n",
       "      <th>Part-time</th>\n",
       "      <th>Temporary</th>\n",
       "    </tr>\n",
       "  </thead>\n",
       "  <tbody>\n",
       "    <tr>\n",
       "      <th>0</th>\n",
       "      <td>0</td>\n",
       "      <td>0</td>\n",
       "      <td>0</td>\n",
       "      <td>1</td>\n",
       "      <td>0</td>\n",
       "      <td>0</td>\n",
       "    </tr>\n",
       "    <tr>\n",
       "      <th>1</th>\n",
       "      <td>0</td>\n",
       "      <td>1</td>\n",
       "      <td>0</td>\n",
       "      <td>0</td>\n",
       "      <td>0</td>\n",
       "      <td>0</td>\n",
       "    </tr>\n",
       "    <tr>\n",
       "      <th>2</th>\n",
       "      <td>0</td>\n",
       "      <td>0</td>\n",
       "      <td>1</td>\n",
       "      <td>0</td>\n",
       "      <td>0</td>\n",
       "      <td>0</td>\n",
       "    </tr>\n",
       "    <tr>\n",
       "      <th>3</th>\n",
       "      <td>0</td>\n",
       "      <td>1</td>\n",
       "      <td>0</td>\n",
       "      <td>0</td>\n",
       "      <td>0</td>\n",
       "      <td>0</td>\n",
       "    </tr>\n",
       "    <tr>\n",
       "      <th>4</th>\n",
       "      <td>0</td>\n",
       "      <td>1</td>\n",
       "      <td>0</td>\n",
       "      <td>0</td>\n",
       "      <td>0</td>\n",
       "      <td>0</td>\n",
       "    </tr>\n",
       "    <tr>\n",
       "      <th>...</th>\n",
       "      <td>...</td>\n",
       "      <td>...</td>\n",
       "      <td>...</td>\n",
       "      <td>...</td>\n",
       "      <td>...</td>\n",
       "      <td>...</td>\n",
       "    </tr>\n",
       "    <tr>\n",
       "      <th>17875</th>\n",
       "      <td>0</td>\n",
       "      <td>1</td>\n",
       "      <td>0</td>\n",
       "      <td>0</td>\n",
       "      <td>0</td>\n",
       "      <td>0</td>\n",
       "    </tr>\n",
       "    <tr>\n",
       "      <th>17876</th>\n",
       "      <td>0</td>\n",
       "      <td>1</td>\n",
       "      <td>0</td>\n",
       "      <td>0</td>\n",
       "      <td>0</td>\n",
       "      <td>0</td>\n",
       "    </tr>\n",
       "    <tr>\n",
       "      <th>17877</th>\n",
       "      <td>0</td>\n",
       "      <td>1</td>\n",
       "      <td>0</td>\n",
       "      <td>0</td>\n",
       "      <td>0</td>\n",
       "      <td>0</td>\n",
       "    </tr>\n",
       "    <tr>\n",
       "      <th>17878</th>\n",
       "      <td>1</td>\n",
       "      <td>0</td>\n",
       "      <td>0</td>\n",
       "      <td>0</td>\n",
       "      <td>0</td>\n",
       "      <td>0</td>\n",
       "    </tr>\n",
       "    <tr>\n",
       "      <th>17879</th>\n",
       "      <td>0</td>\n",
       "      <td>1</td>\n",
       "      <td>0</td>\n",
       "      <td>0</td>\n",
       "      <td>0</td>\n",
       "      <td>0</td>\n",
       "    </tr>\n",
       "  </tbody>\n",
       "</table>\n",
       "<p>17880 rows × 6 columns</p>\n",
       "</div>"
      ],
      "text/plain": [
       "       Contract  Full-time  None  Other  Part-time  Temporary\n",
       "0             0          0     0      1          0          0\n",
       "1             0          1     0      0          0          0\n",
       "2             0          0     1      0          0          0\n",
       "3             0          1     0      0          0          0\n",
       "4             0          1     0      0          0          0\n",
       "...         ...        ...   ...    ...        ...        ...\n",
       "17875         0          1     0      0          0          0\n",
       "17876         0          1     0      0          0          0\n",
       "17877         0          1     0      0          0          0\n",
       "17878         1          0     0      0          0          0\n",
       "17879         0          1     0      0          0          0\n",
       "\n",
       "[17880 rows x 6 columns]"
      ]
     },
     "execution_count": 29,
     "metadata": {},
     "output_type": "execute_result"
    }
   ],
   "source": [
    "mlb = MultiLabelBinarizer()\n",
    "mlb.fit([data.employment_type])\n",
    "mlb.classes_\n",
    "\n",
    "employment_df = pd.DataFrame(mlb.transform([[item] for item in data.employment_type]))\n",
    "employment_df.columns = mlb.classes_\n",
    "\n",
    "employment_df"
   ]
  },
  {
   "cell_type": "code",
   "execution_count": 31,
   "metadata": {},
   "outputs": [],
   "source": [
    "#Create features:\n",
    "X = data[['telecommuting', 'has_company_logo', 'has_questions', 'has_salary',\n",
    "             'num_nums', 'num_links', 'num_punct', 'description_length']].copy()\n",
    "\n",
    "X = pd.concat([X, employment_df], axis = 1)\n",
    "y = data['fraudulent'].copy()"
   ]
  },
  {
   "cell_type": "code",
   "execution_count": 37,
   "metadata": {},
   "outputs": [],
   "source": [
    "X_train, X_test, y_train, y_test = train_test_split(X, y, test_size = .2, random_state = 1000, stratify = y)"
   ]
  },
  {
   "cell_type": "code",
   "execution_count": 38,
   "metadata": {},
   "outputs": [],
   "source": [
    "#Set up parameters\n",
    "#Due to heavily imbalanced nature of dataset, analyze effect of custom loss weights \n",
    "\n",
    "logparams = {\n",
    "    'max_iter': [5000],\n",
    "    'solver': ['liblinear'],\n",
    "    'class_weight':[{0: 1, 1: 1}, {0: 1, 1: 5}, {0: 1, 1: 10}, {0: 1, 1: 15}, {0: 1, 1: 20}]\n",
    "}\n",
    "\n",
    "rfparams = {\n",
    "    'n_estimators': [100],\n",
    "    'class_weight':[{0: 1, 1: 1}, {0: 1, 1: 5}, {0: 1, 1: 10}, {0: 1, 1: 15}, {0: 1, 1: 20}]\n",
    "}\n",
    "\n",
    "xgbparams = {\n",
    "    'eta': [.01, .05, .1, .15, .2],\n",
    "    'scale_pos_weight': [.05, .1, .15, .2]\n",
    "}"
   ]
  },
  {
   "cell_type": "code",
   "execution_count": 39,
   "metadata": {},
   "outputs": [],
   "source": [
    "logGrid = GridSearchCV(LogisticRegression(), param_grid=logparams, scoring='roc_auc')\n",
    "rfGrid = GridSearchCV(RandomForestClassifier(), param_grid=rfparams, scoring='roc_auc')\n",
    "xgbGrid = GridSearchCV(XGBClassifier(), param_grid=xgbparams, scoring='roc_auc')\n",
    "\n",
    "models = [logGrid, rfGrid, xgbGrid]"
   ]
  },
  {
   "cell_type": "code",
   "execution_count": 40,
   "metadata": {},
   "outputs": [],
   "source": [
    "precisions = []\n",
    "recalls = []\n",
    "cms = []\n",
    "aucs = []\n",
    "predictions = []\n",
    "\n",
    "for model in models:\n",
    "    model.fit(X_train, y_train)\n",
    "    \n",
    "    model_predict = model.predict(X_test)\n",
    "    \n",
    "    predictions.append(model_predict)\n",
    "    precisions.append(precision_score(y_test, model_predict))\n",
    "    recalls.append(recall_score(y_test, model_predict))\n",
    "    aucs.append(roc_auc_score(y_test, model.predict_proba(X_test)[:, 1]))\n",
    "    \n",
    "    cms.append(confusion_matrix(y_test, model.predict(X_test)))\n",
    "    \n",
    "    "
   ]
  },
  {
   "cell_type": "code",
   "execution_count": 51,
   "metadata": {},
   "outputs": [
    {
     "name": "stdout",
     "output_type": "stream",
     "text": [
      "LOG Best: LogisticRegression(C=1.0, class_weight={0: 1, 1: 20}, dual=False,\n",
      "                   fit_intercept=True, intercept_scaling=1, l1_ratio=None,\n",
      "                   max_iter=5000, multi_class='auto', n_jobs=None, penalty='l2',\n",
      "                   random_state=None, solver='liblinear', tol=0.0001, verbose=0,\n",
      "                   warm_start=False)\n",
      "\n",
      "\n",
      "RF Best: RandomForestClassifier(bootstrap=True, ccp_alpha=0.0,\n",
      "                       class_weight={0: 1, 1: 10}, criterion='gini',\n",
      "                       max_depth=None, max_features='auto', max_leaf_nodes=None,\n",
      "                       max_samples=None, min_impurity_decrease=0.0,\n",
      "                       min_impurity_split=None, min_samples_leaf=1,\n",
      "                       min_samples_split=2, min_weight_fraction_leaf=0.0,\n",
      "                       n_estimators=100, n_jobs=None, oob_score=False,\n",
      "                       random_state=None, verbose=0, warm_start=False)\n",
      "\n",
      "\n",
      "XGB Best: XGBClassifier(base_score=0.5, booster=None, colsample_bylevel=1,\n",
      "              colsample_bynode=1, colsample_bytree=1, eta=0.2, gamma=0,\n",
      "              gpu_id=-1, importance_type='gain', interaction_constraints=None,\n",
      "              learning_rate=0.200000003, max_delta_step=0, max_depth=6,\n",
      "              min_child_weight=1, missing=nan, monotone_constraints=None,\n",
      "              n_estimators=100, n_jobs=0, num_parallel_tree=1,\n",
      "              objective='binary:logistic', random_state=0, reg_alpha=0,\n",
      "              reg_lambda=1, scale_pos_weight=0.2, subsample=1, tree_method=None,\n",
      "              validate_parameters=False, verbosity=None)\n"
     ]
    }
   ],
   "source": [
    "print('LOG Best:', models[0].best_estimator_)\n",
    "print('\\n')\n",
    "print('RF Best:', models[1].best_estimator_)\n",
    "print('\\n')\n",
    "print('XGB Best:', models[2].best_estimator_)"
   ]
  },
  {
   "cell_type": "code",
   "execution_count": 41,
   "metadata": {},
   "outputs": [
    {
     "name": "stdout",
     "output_type": "stream",
     "text": [
      "Precision: [0.14791 0.83019 1.     ]\n",
      "\n",
      "\n",
      "Recall: [0.6763  0.50867 0.21387]\n",
      "\n",
      "\n",
      "AUC: [0.7825  0.90829 0.90853]\n",
      "\n",
      "\n"
     ]
    },
    {
     "data": {
      "image/png": "[encoded data removed]",
      "text/plain": [
       "<Figure size 1440x360 with 6 Axes>"
      ]
     },
     "metadata": {},
     "output_type": "display_data"
    }
   ],
   "source": [
    "f, ax = plt.subplots(1, 3, figsize=(20, 5))\n",
    "\n",
    "for i in range(0, len(cms)):\n",
    "    sns.heatmap(cms[i], annot=True, fmt = 'd', cmap='Blues', ax=ax[i])\n",
    "\n",
    "ax[0].set_title('LOG')\n",
    "ax[1].set_title('RF')\n",
    "ax[2].set_title('XGB');\n",
    "\n",
    "print('Precision:', np.round(np.array(precisions),5))\n",
    "print('\\n')\n",
    "\n",
    "print('Recall:', np.round(np.array(recalls),5))\n",
    "print('\\n')\n",
    "\n",
    "print('AUC:', np.round(np.array(aucs),5))\n",
    "print('\\n')\n"
   ]
  },
  {
   "cell_type": "markdown",
   "metadata": {},
   "source": [
    "# Prepare Description for Analysis:"
   ]
  },
  {
   "cell_type": "code",
   "execution_count": 84,
   "metadata": {},
   "outputs": [],
   "source": [
    "from langdetect import DetectorFactory, detect\n",
    "DetectorFactory.seed = 0\n",
    "\n",
    "from googletrans import Translator"
   ]
  },
  {
   "cell_type": "code",
   "execution_count": 81,
   "metadata": {},
   "outputs": [],
   "source": [
    "def preprocess_string(text):\n",
    "    \n",
    "    text = text.lower()\n",
    "    text = html.unescape(text)\n",
    "    text = preprocessing.strip_non_alphanum(text)\n",
    "    text = preprocessing.strip_numeric(text)\n",
    "    text = preprocessing.strip_multiple_whitespaces(text)\n",
    "    text = preprocessing.remove_stopwords(text)\n",
    "    text = preprocessing.strip_short(text, minsize=3)\n",
    "    \n",
    "    return text\n",
    "      "
   ]
  },
  {
   "cell_type": "code",
   "execution_count": 82,
   "metadata": {},
   "outputs": [],
   "source": [
    "cleaned_corpus = corpus.apply(lambda x: preprocess_string(x))"
   ]
  },
  {
   "cell_type": "code",
   "execution_count": 85,
   "metadata": {},
   "outputs": [],
   "source": [
    "description_language = cleaned_corpus.apply(lambda x: detect(x) if len(x) > 0 else 'None')"
   ]
  },
  {
   "cell_type": "code",
   "execution_count": 86,
   "metadata": {},
   "outputs": [],
   "source": [
    "data['language'] = description_language\n",
    "data['cleaned_description'] = cleaned_corpus\n",
    "\n",
    "to_translate = data[(data['language'] != 'en') & (data['language'] != 'None')]['cleaned_description']\n",
    "no_translate = data[(data['language'] == 'en') | (data['language'] == 'None')]['cleaned_description']"
   ]
  },
  {
   "cell_type": "code",
   "execution_count": 88,
   "metadata": {},
   "outputs": [],
   "source": [
    "trans = Translator()\n",
    "\n",
    "translations = pd.Series(dtype=object)\n",
    "\n",
    "for index, item in to_translate.items():\n",
    "    try:\n",
    "        translations.loc[index] = trans.translate(item).text\n",
    "    except:\n",
    "        print(index)\n",
    "        print('error')\n",
    "        break"
   ]
  },
  {
   "cell_type": "code",
   "execution_count": 89,
   "metadata": {},
   "outputs": [
    {
     "data": {
      "text/plain": [
       "0        food fast growing james beard award winning on...\n",
       "1        organised focused vibrant awesome passion cust...\n",
       "2        client located houston actively seeking experi...\n",
       "3        company esri environmental systems research in...\n",
       "4        job title itemization review managerlocation f...\n",
       "                               ...                        \n",
       "17875    case time visited website vend award winning w...\n",
       "17876    payroll accountant focus primarily payroll fun...\n",
       "17877    experienced project cost control staff enginee...\n",
       "17878    nemsia studios looking experienced visual grap...\n",
       "17879    vend award winning web based point sale softwa...\n",
       "Length: 17880, dtype: object"
      ]
     },
     "execution_count": 89,
     "metadata": {},
     "output_type": "execute_result"
    }
   ],
   "source": [
    "#Recombine translated descriptions with English descriptions\n",
    "translated_descriptions = pd.concat([translations, no_translate], axis = 0)\n",
    "translated_descriptions.sort_index(inplace = True)\n",
    "translated_descriptions"
   ]
  },
  {
   "cell_type": "code",
   "execution_count": 90,
   "metadata": {},
   "outputs": [],
   "source": [
    "data['final_descriptions'] = translated_descriptions"
   ]
  },
  {
   "cell_type": "code",
   "execution_count": 91,
   "metadata": {},
   "outputs": [],
   "source": [
    "#Save Preprocessed df:\n",
    "data.to_csv('language_processed_df.csv')"
   ]
  },
  {
   "cell_type": "markdown",
   "metadata": {},
   "source": [
    "### SpaCy Lemmatizing"
   ]
  },
  {
   "cell_type": "code",
   "execution_count": null,
   "metadata": {},
   "outputs": [],
   "source": [
    "data = pd.read_csv('language_processed_df.csv', index_col = 0)"
   ]
  },
  {
   "cell_type": "code",
   "execution_count": 92,
   "metadata": {},
   "outputs": [],
   "source": [
    "from spacy.tokenizer import Tokenizer\n",
    "import en_core_web_lg\n",
    "from spacy.lemmatizer import Lemmatizer"
   ]
  },
  {
   "cell_type": "code",
   "execution_count": 93,
   "metadata": {},
   "outputs": [],
   "source": [
    "nlp = en_core_web_lg.load()"
   ]
  },
  {
   "cell_type": "code",
   "execution_count": 94,
   "metadata": {},
   "outputs": [],
   "source": [
    "docs = list(nlp.pipe(data['final_descriptions'], disable=['parser', 'ner']))"
   ]
  },
  {
   "cell_type": "code",
   "execution_count": 95,
   "metadata": {},
   "outputs": [],
   "source": [
    "lemma_words = pd.Series(dtype=object)\n",
    "\n",
    "for i, item in enumerate(docs):\n",
    "    lemma_words.loc[i] = ' '.join([word.lemma_ for word in item])"
   ]
  },
  {
   "cell_type": "markdown",
   "metadata": {},
   "source": [
    "### Visualization Distribution of Words:"
   ]
  },
  {
   "cell_type": "code",
   "execution_count": 96,
   "metadata": {},
   "outputs": [],
   "source": [
    "lemma_tokens = lemma_words.apply(lambda x: nltk.word_tokenize(x))"
   ]
  },
  {
   "cell_type": "code",
   "execution_count": 102,
   "metadata": {},
   "outputs": [],
   "source": [
    "fraud_index = data['fraudulent'] == 1\n",
    "\n",
    "clean_words = []\n",
    "fraud_words = []\n",
    "all_words = []\n",
    "\n",
    "\n",
    "for item in lemma_tokens[fraud_index]:\n",
    "    fraud_words.extend(item)    \n",
    "\n",
    "\n",
    "for item in lemma_tokens[~fraud_index]:\n",
    "    clean_words.extend(item)\n",
    "    \n",
    "\n",
    "for item in lemma_tokens:\n",
    "    all_words.extend(item)\n",
    "    \n",
    "c_all = Counter(all_words)\n",
    "c_fraud = Counter(fraud_words)\n",
    "c_clean = Counter(clean_words)"
   ]
  },
  {
   "cell_type": "code",
   "execution_count": 152,
   "metadata": {},
   "outputs": [
    {
     "data": {
      "image/png": "[encoded data removed]",
      "text/plain": [
       "<Figure size 1080x1080 with 3 Axes>"
      ]
     },
     "metadata": {},
     "output_type": "display_data"
    }
   ],
   "source": [
    "f, ax = plt.subplots(3, 1, figsize=(15,15))\n",
    "\n",
    "sns.barplot(x = [item[0] for item in c_all.most_common(15)], y = [item[1] for item in c_all.most_common(15)], ax=ax[0])\n",
    "sns.barplot(x = [item[0] for item in c_fraud.most_common(15)], y = [item[1] for item in c_fraud.most_common(15)], ax=ax[1])\n",
    "sns.barplot(x = [item[0] for item in c_clean.most_common(15)], y = [item[1] for item in c_clean.most_common(15)], ax=ax[2])\n",
    "\n",
    "ax[0].set_title('All Descriptors Top 10')\n",
    "ax[1].set_title('Fraudulent Descriptors Top 10')\n",
    "ax[2].set_title('Clean Descriptors Top 10');"
   ]
  },
  {
   "cell_type": "code",
   "execution_count": 155,
   "metadata": {},
   "outputs": [],
   "source": [
    "clean_words = [item[0] for item in c_clean.most_common(15)]\n",
    "fraud_words = [item[0] for item in c_fraud.most_common(15)]"
   ]
  },
  {
   "cell_type": "code",
   "execution_count": 158,
   "metadata": {},
   "outputs": [
    {
     "name": "stdout",
     "output_type": "stream",
     "text": [
      "19\n"
     ]
    },
    {
     "data": {
      "text/plain": [
       "array(['business', 'client', 'company', 'customer', 'experience',\n",
       "       'include', 'job', 'look', 'management', 'new', 'position',\n",
       "       'product', 'project', 'provide', 'sale', 'service', 'team', 'time',\n",
       "       'work'], dtype='<U10')"
      ]
     },
     "execution_count": 158,
     "metadata": {},
     "output_type": "execute_result"
    }
   ],
   "source": [
    "print(len(np.union1d(clean_words, fraud_words)))\n",
    "np.union1d(clean_words, fraud_words)"
   ]
  },
  {
   "cell_type": "markdown",
   "metadata": {},
   "source": [
    "### Lexical Diversity of Descriptions:"
   ]
  },
  {
   "cell_type": "code",
   "execution_count": 165,
   "metadata": {},
   "outputs": [
    {
     "data": {
      "text/plain": [
       "fraudulent\n",
       "0    0.805540\n",
       "1    0.806069\n",
       "Name: description_diversity, dtype: float64"
      ]
     },
     "execution_count": 165,
     "metadata": {},
     "output_type": "execute_result"
    }
   ],
   "source": [
    "lex_diversity = lemma_tokens.apply(lambda x: ld.ttr(x))\n",
    "data['description_diversity'] = lex_diversity\n",
    "data.groupby('fraudulent').mean()['description_diversity']"
   ]
  },
  {
   "cell_type": "markdown",
   "metadata": {},
   "source": [
    "# Gensim FastText"
   ]
  },
  {
   "cell_type": "code",
   "execution_count": 166,
   "metadata": {},
   "outputs": [],
   "source": [
    "from gensim import downloader\n",
    "from gensim.models.fasttext import load_facebook_model\n",
    "from gensim.test.utils import datapath\n",
    "\n",
    "from fse import IndexedList\n",
    "from fse.models import Average, uSIF\n",
    "from fse.models.average import FAST_VERSION"
   ]
  },
  {
   "cell_type": "code",
   "execution_count": 167,
   "metadata": {},
   "outputs": [],
   "source": [
    "fb_model = downloader.load('fasttext-wiki-news-subwords-300')"
   ]
  },
  {
   "cell_type": "code",
   "execution_count": 171,
   "metadata": {},
   "outputs": [
    {
     "name": "stderr",
     "output_type": "stream",
     "text": [
      "C:\\Users\\lzeng\\AppData\\Local\\Continuum\\anaconda3\\envs\\nlp\\lib\\site-packages\\fse\\models\\base_s2v.py:172: UserWarning: C extension not loaded, training/inferring will be slow. Install a C compiler and reinstall fse.\n",
      "  \"C extension not loaded, training/inferring will be slow. \"\n"
     ]
    },
    {
     "data": {
      "text/plain": [
       "(17880, 1754079)"
      ]
     },
     "execution_count": 171,
     "metadata": {},
     "output_type": "execute_result"
    }
   ],
   "source": [
    "s = IndexedList(lemma_tokens.to_list())\n",
    "sif_model = uSIF(fb_model, lang_freq='en')\n",
    "sif_model.train(s)"
   ]
  },
  {
   "cell_type": "code",
   "execution_count": 172,
   "metadata": {},
   "outputs": [],
   "source": [
    "sif_vecs = []\n",
    "for i in range(0, data.shape[0]):\n",
    "    sif_vecs.append(sif_model.sv[i])\n",
    "\n",
    "sif_vecs = pd.read_csv('SIF_Vectors.csv', index_col = 0)"
   ]
  },
  {
   "cell_type": "code",
   "execution_count": 173,
   "metadata": {},
   "outputs": [],
   "source": [
    "sif_vecs = sif_vecs.to_numpy()"
   ]
  },
  {
   "cell_type": "markdown",
   "metadata": {},
   "source": [
    "### Models with SIF Sentence Embeddedings of Description:"
   ]
  },
  {
   "cell_type": "code",
   "execution_count": 174,
   "metadata": {},
   "outputs": [],
   "source": [
    "X = pd.DataFrame(sif_vecs)\n",
    "y = data['fraudulent']"
   ]
  },
  {
   "cell_type": "code",
   "execution_count": 178,
   "metadata": {},
   "outputs": [
    {
     "name": "stdout",
     "output_type": "stream",
     "text": [
      "(14304, 300) (14304,)\n"
     ]
    }
   ],
   "source": [
    "X_train, X_test, y_train, y_test = train_test_split(X, y, test_size = .2, random_state = 0, stratify = y)\n",
    "print(X_train.shape, y_train.shape)"
   ]
  },
  {
   "cell_type": "code",
   "execution_count": 179,
   "metadata": {},
   "outputs": [],
   "source": [
    "log_params = {\n",
    "    'C': [.25, .5, 1],\n",
    "    'max_iter': [5000],\n",
    "    'penalty': ['l1'],\n",
    "    'solver': ['saga'],\n",
    "    'class_weight':[{0: 1, 1: 1}, {0: 1, 1: 10}, {0: 1, 1: 20}]\n",
    "    }\n",
    "\n",
    "rf_params = {\n",
    "    'n_estimators': [100],\n",
    "    'class_weight':[{0: 1, 1: 1}, {0: 1, 1: 5}, {0: 1, 1: 10}, {0: 1, 1: 15}, {0: 1, 1: 20}]\n",
    "    }\n",
    "\n",
    "xgb_params = {\n",
    "    'eta': [.01, .05, .1, .2],\n",
    "    'scale_pos_weight': [.05, .1, .2]\n",
    "}"
   ]
  },
  {
   "cell_type": "code",
   "execution_count": 190,
   "metadata": {},
   "outputs": [],
   "source": [
    "logGrid = GridSearchCV(LogisticRegression(), param_grid=log_params, verbose = 1, cv = 3, scoring = 'roc_auc')\n",
    "rf_grid = GridSearchCV(RandomForestClassifier(), param_grid=rf_params, cv=3, scoring = 'roc_auc', verbose = 1)\n",
    "xgb_grid = GridSearchCV(XGBClassifier(), param_grid=xgb_params, cv=3, scoring = 'roc_auc', verbose = 1)"
   ]
  },
  {
   "cell_type": "code",
   "execution_count": 191,
   "metadata": {},
   "outputs": [
    {
     "name": "stdout",
     "output_type": "stream",
     "text": [
      "Fitting 3 folds for each of 9 candidates, totalling 27 fits\n"
     ]
    },
    {
     "name": "stderr",
     "output_type": "stream",
     "text": [
      "[Parallel(n_jobs=1)]: Using backend SequentialBackend with 1 concurrent workers.\n",
      "[Parallel(n_jobs=1)]: Done  27 out of  27 | elapsed:  4.9min finished\n"
     ]
    },
    {
     "data": {
      "text/plain": [
       "GridSearchCV(cv=3, error_score=nan,\n",
       "             estimator=LogisticRegression(C=1.0, class_weight=None, dual=False,\n",
       "                                          fit_intercept=True,\n",
       "                                          intercept_scaling=1, l1_ratio=None,\n",
       "                                          max_iter=100, multi_class='auto',\n",
       "                                          n_jobs=None, penalty='l2',\n",
       "                                          random_state=None, solver='lbfgs',\n",
       "                                          tol=0.0001, verbose=0,\n",
       "                                          warm_start=False),\n",
       "             iid='deprecated', n_jobs=None,\n",
       "             param_grid={'C': [0.25, 0.5, 1],\n",
       "                         'class_weight': [{0: 1, 1: 1}, {0: 1, 1: 10},\n",
       "                                          {0: 1, 1: 20}],\n",
       "                         'max_iter': [5000], 'penalty': ['l1'],\n",
       "                         'solver': ['saga']},\n",
       "             pre_dispatch='2*n_jobs', refit=True, return_train_score=False,\n",
       "             scoring='roc_auc', verbose=1)"
      ]
     },
     "execution_count": 191,
     "metadata": {},
     "output_type": "execute_result"
    }
   ],
   "source": [
    "logGrid.fit(X_train, y_train)"
   ]
  },
  {
   "cell_type": "code",
   "execution_count": 192,
   "metadata": {},
   "outputs": [
    {
     "name": "stdout",
     "output_type": "stream",
     "text": [
      "Fitting 3 folds for each of 5 candidates, totalling 15 fits\n"
     ]
    },
    {
     "name": "stderr",
     "output_type": "stream",
     "text": [
      "[Parallel(n_jobs=1)]: Using backend SequentialBackend with 1 concurrent workers.\n",
      "[Parallel(n_jobs=1)]: Done  15 out of  15 | elapsed:  2.6min finished\n"
     ]
    },
    {
     "data": {
      "text/plain": [
       "GridSearchCV(cv=3, error_score=nan,\n",
       "             estimator=RandomForestClassifier(bootstrap=True, ccp_alpha=0.0,\n",
       "                                              class_weight=None,\n",
       "                                              criterion='gini', max_depth=None,\n",
       "                                              max_features='auto',\n",
       "                                              max_leaf_nodes=None,\n",
       "                                              max_samples=None,\n",
       "                                              min_impurity_decrease=0.0,\n",
       "                                              min_impurity_split=None,\n",
       "                                              min_samples_leaf=1,\n",
       "                                              min_samples_split=2,\n",
       "                                              min_weight_fraction_leaf=0.0,\n",
       "                                              n_estimators=100, n_jobs=None,\n",
       "                                              oob_score=False,\n",
       "                                              random_state=None, verbose=0,\n",
       "                                              warm_start=False),\n",
       "             iid='deprecated', n_jobs=None,\n",
       "             param_grid={'class_weight': [{0: 1, 1: 1}, {0: 1, 1: 5},\n",
       "                                          {0: 1, 1: 10}, {0: 1, 1: 15},\n",
       "                                          {0: 1, 1: 20}],\n",
       "                         'n_estimators': [100]},\n",
       "             pre_dispatch='2*n_jobs', refit=True, return_train_score=False,\n",
       "             scoring='roc_auc', verbose=1)"
      ]
     },
     "execution_count": 192,
     "metadata": {},
     "output_type": "execute_result"
    }
   ],
   "source": [
    "rf_grid.fit(X_train, y_train)"
   ]
  },
  {
   "cell_type": "code",
   "execution_count": 193,
   "metadata": {},
   "outputs": [
    {
     "name": "stdout",
     "output_type": "stream",
     "text": [
      "Fitting 3 folds for each of 12 candidates, totalling 36 fits\n"
     ]
    },
    {
     "name": "stderr",
     "output_type": "stream",
     "text": [
      "[Parallel(n_jobs=1)]: Using backend SequentialBackend with 1 concurrent workers.\n",
      "[Parallel(n_jobs=1)]: Done  36 out of  36 | elapsed:  7.7min finished\n"
     ]
    },
    {
     "data": {
      "text/plain": [
       "GridSearchCV(cv=3, error_score=nan,\n",
       "             estimator=XGBClassifier(base_score=None, booster=None,\n",
       "                                     colsample_bylevel=None,\n",
       "                                     colsample_bynode=None,\n",
       "                                     colsample_bytree=None, gamma=None,\n",
       "                                     gpu_id=None, importance_type='gain',\n",
       "                                     interaction_constraints=None,\n",
       "                                     learning_rate=None, max_delta_step=None,\n",
       "                                     max_depth=None, min_child_weight=None,\n",
       "                                     missing=nan, monotone_constraints=None,\n",
       "                                     n_estim...\n",
       "                                     objective='binary:logistic',\n",
       "                                     random_state=None, reg_alpha=None,\n",
       "                                     reg_lambda=None, scale_pos_weight=None,\n",
       "                                     subsample=None, tree_method=None,\n",
       "                                     validate_parameters=False,\n",
       "                                     verbosity=None),\n",
       "             iid='deprecated', n_jobs=None,\n",
       "             param_grid={'eta': [0.01, 0.05, 0.1, 0.2],\n",
       "                         'scale_pos_weight': [0.05, 0.1, 0.2]},\n",
       "             pre_dispatch='2*n_jobs', refit=True, return_train_score=False,\n",
       "             scoring='roc_auc', verbose=1)"
      ]
     },
     "execution_count": 193,
     "metadata": {},
     "output_type": "execute_result"
    }
   ],
   "source": [
    "xgb_grid.fit(X_train, y_train)"
   ]
  },
  {
   "cell_type": "code",
   "execution_count": 195,
   "metadata": {},
   "outputs": [
    {
     "name": "stdout",
     "output_type": "stream",
     "text": [
      "LogisticRegression(C=1, class_weight={0: 1, 1: 20}, dual=False,\n",
      "                   fit_intercept=True, intercept_scaling=1, l1_ratio=None,\n",
      "                   max_iter=5000, multi_class='auto', n_jobs=None, penalty='l1',\n",
      "                   random_state=None, solver='saga', tol=0.0001, verbose=0,\n",
      "                   warm_start=False)\n",
      "RandomForestClassifier(bootstrap=True, ccp_alpha=0.0,\n",
      "                       class_weight={0: 1, 1: 10}, criterion='gini',\n",
      "                       max_depth=None, max_features='auto', max_leaf_nodes=None,\n",
      "                       max_samples=None, min_impurity_decrease=0.0,\n",
      "                       min_impurity_split=None, min_samples_leaf=1,\n",
      "                       min_samples_split=2, min_weight_fraction_leaf=0.0,\n",
      "                       n_estimators=100, n_jobs=None, oob_score=False,\n",
      "                       random_state=None, verbose=0, warm_start=False)\n",
      "XGBClassifier(base_score=0.5, booster=None, colsample_bylevel=1,\n",
      "              colsample_bynode=1, colsample_bytree=1, eta=0.2, gamma=0,\n",
      "              gpu_id=-1, importance_type='gain', interaction_constraints=None,\n",
      "              learning_rate=0.200000003, max_delta_step=0, max_depth=6,\n",
      "              min_child_weight=1, missing=nan, monotone_constraints=None,\n",
      "              n_estimators=100, n_jobs=0, num_parallel_tree=1,\n",
      "              objective='binary:logistic', random_state=0, reg_alpha=0,\n",
      "              reg_lambda=1, scale_pos_weight=0.1, subsample=1, tree_method=None,\n",
      "              validate_parameters=False, verbosity=None)\n"
     ]
    }
   ],
   "source": [
    "print(logGrid.best_estimator_)\n",
    "print(rf_grid.best_estimator_)\n",
    "print(xgb_grid.best_estimator_)"
   ]
  },
  {
   "cell_type": "code",
   "execution_count": 222,
   "metadata": {},
   "outputs": [],
   "source": [
    "def get_metrics(model):\n",
    "    score = model.score(X_test, y_test)\n",
    "    predictions = model.predict(X_test)\n",
    "    precision = precision_score(y_test, predictions)\n",
    "    recall = recall_score(y_test, predictions)\n",
    "    cm = confusion_matrix(y_test, predictions)\n",
    "    \n",
    "    print('AUC:', round(score,5))\n",
    "    print('Precision:', round(precision,5))\n",
    "    print('Recall:', round(recall, 5))\n",
    "    sns.heatmap(cm, annot=True, fmt = 'd', cmap = 'Blues')\n",
    "    \n",
    "    return None"
   ]
  },
  {
   "cell_type": "code",
   "execution_count": 223,
   "metadata": {},
   "outputs": [
    {
     "name": "stdout",
     "output_type": "stream",
     "text": [
      "AUC: 0.87826\n",
      "Precision: 0.18373\n",
      "Recall: 0.80925\n"
     ]
    },
    {
     "data": {
      "image/png": "[encoded data removed]",
      "text/plain": [
       "<Figure size 432x288 with 2 Axes>"
      ]
     },
     "metadata": {},
     "output_type": "display_data"
    }
   ],
   "source": [
    "get_metrics(logGrid)"
   ]
  },
  {
   "cell_type": "code",
   "execution_count": 224,
   "metadata": {},
   "outputs": [
    {
     "name": "stdout",
     "output_type": "stream",
     "text": [
      "AUC: 0.95173\n",
      "Precision: 0.975\n",
      "Recall: 0.45087\n"
     ]
    },
    {
     "data": {
      "image/png": "[encoded data removed]",
      "text/plain": [
       "<Figure size 432x288 with 2 Axes>"
      ]
     },
     "metadata": {},
     "output_type": "display_data"
    }
   ],
   "source": [
    "get_metrics(rf_grid)"
   ]
  },
  {
   "cell_type": "code",
   "execution_count": 225,
   "metadata": {},
   "outputs": [
    {
     "name": "stdout",
     "output_type": "stream",
     "text": [
      "AUC: 0.93637\n",
      "Precision: 0.97468\n",
      "Recall: 0.44509\n"
     ]
    },
    {
     "data": {
      "image/png": "[encoded data removed]",
      "text/plain": [
       "<Figure size 432x288 with 2 Axes>"
      ]
     },
     "metadata": {},
     "output_type": "display_data"
    }
   ],
   "source": [
    "get_metrics(xgb_grid)"
   ]
  },
  {
   "cell_type": "markdown",
   "metadata": {},
   "source": [
    "# MLP Model:"
   ]
  },
  {
   "cell_type": "code",
   "execution_count": 227,
   "metadata": {},
   "outputs": [],
   "source": [
    "from tensorflow.keras.layers import Layer, Dense, Input, Dropout, Activation\n",
    "from tensorflow.keras.models import Model, Sequential\n",
    "from tensorflow.keras.callbacks import Callback, EarlyStopping\n",
    "from tensorflow.keras.wrappers.scikit_learn import KerasClassifier"
   ]
  },
  {
   "cell_type": "code",
   "execution_count": 228,
   "metadata": {},
   "outputs": [],
   "source": [
    "es = EarlyStopping(\n",
    "  monitor='accuracy', min_delta=0.0001,\n",
    "  patience=5)"
   ]
  },
  {
   "cell_type": "code",
   "execution_count": 255,
   "metadata": {},
   "outputs": [],
   "source": [
    "def get_model(dropout, n_size, input_size, optimizer):\n",
    "    model = Sequential()\n",
    "    model.add(Dense(n_size, input_dim=input_size, activation='relu'))\n",
    "    model.add(Dropout(dropout))\n",
    "    model.add(Dense(1, activation='sigmoid'))\n",
    "\n",
    "    model.compile(loss = 'binary_crossentropy',\n",
    "                 optimizer=optimizer,\n",
    "                 metrics=['accuracy'])\n",
    "\n",
    "    return model\n"
   ]
  },
  {
   "cell_type": "code",
   "execution_count": 256,
   "metadata": {},
   "outputs": [],
   "source": [
    "nn_params = {\n",
    "    'dropout': [.2, .4],\n",
    "    'n_size': [64, 128],\n",
    "    'input_size': [X_train.shape[1]],\n",
    "    'epochs': [20],\n",
    "    'optimizer': ['adam']\n",
    "}\n"
   ]
  },
  {
   "cell_type": "code",
   "execution_count": 257,
   "metadata": {},
   "outputs": [],
   "source": [
    "mod = KerasClassifier(build_fn=get_model)\n",
    "keras_grid = GridSearchCV(estimator=mod, param_grid=nn_params, cv=2, scoring = 'roc_auc')"
   ]
  },
  {
   "cell_type": "code",
   "execution_count": 258,
   "metadata": {},
   "outputs": [
    {
     "name": "stdout",
     "output_type": "stream",
     "text": [
      "Train on 7152 samples\n",
      "Epoch 1/20\n",
      "7152/7152 [==============================] - 1s 82us/sample - loss: 0.3270 - accuracy: 0.9459\n",
      "Epoch 2/20\n",
      "7152/7152 [==============================] - 0s 48us/sample - loss: 0.1799 - accuracy: 0.9476s - loss: 0.1798 - accuracy: 0.94\n",
      "Epoch 3/20\n",
      "7152/7152 [==============================] - 0s 49us/sample - loss: 0.1664 - accuracy: 0.9499\n",
      "Epoch 4/20\n",
      "7152/7152 [==============================] - 0s 50us/sample - loss: 0.1559 - accuracy: 0.9515\n",
      "Epoch 5/20\n",
      "7152/7152 [==============================] - 0s 44us/sample - loss: 0.1489 - accuracy: 0.9532\n",
      "Epoch 6/20\n",
      "7152/7152 [==============================] - 0s 46us/sample - loss: 0.1431 - accuracy: 0.9550\n",
      "Epoch 7/20\n",
      "7152/7152 [==============================] - 0s 47us/sample - loss: 0.1379 - accuracy: 0.9558\n",
      "Epoch 8/20\n",
      "7152/7152 [==============================] - 0s 47us/sample - loss: 0.1338 - accuracy: 0.9568\n",
      "Epoch 9/20\n",
      "7152/7152 [==============================] - 0s 48us/sample - loss: 0.1295 - accuracy: 0.9593\n",
      "Epoch 10/20\n",
      "7152/7152 [==============================] - 0s 49us/sample - loss: 0.1282 - accuracy: 0.9593\n",
      "Epoch 11/20\n",
      "7152/7152 [==============================] - 0s 48us/sample - loss: 0.1243 - accuracy: 0.9607\n",
      "Epoch 12/20\n",
      "7152/7152 [==============================] - 0s 47us/sample - loss: 0.1223 - accuracy: 0.9622\n",
      "Epoch 13/20\n",
      "7152/7152 [==============================] - 0s 50us/sample - loss: 0.1187 - accuracy: 0.9631\n",
      "Epoch 14/20\n",
      "7152/7152 [==============================] - 0s 52us/sample - loss: 0.1159 - accuracy: 0.9639\n",
      "Epoch 15/20\n",
      "7152/7152 [==============================] - 0s 50us/sample - loss: 0.1140 - accuracy: 0.9653\n",
      "Epoch 16/20\n",
      "7152/7152 [==============================] - 0s 49us/sample - loss: 0.1126 - accuracy: 0.9649\n",
      "Epoch 17/20\n",
      "7152/7152 [==============================] - 0s 49us/sample - loss: 0.1117 - accuracy: 0.9666\n",
      "Epoch 18/20\n",
      "7152/7152 [==============================] - 0s 48us/sample - loss: 0.1086 - accuracy: 0.9670\n",
      "Epoch 19/20\n",
      "7152/7152 [==============================] - 0s 51us/sample - loss: 0.1078 - accuracy: 0.9664\n",
      "Epoch 20/20\n",
      "7152/7152 [==============================] - 0s 49us/sample - loss: 0.1056 - accuracy: 0.9660\n",
      "Train on 7152 samples\n",
      "Epoch 1/20\n",
      "7152/7152 [==============================] - 1s 85us/sample - loss: 0.3190 - accuracy: 0.9543\n",
      "Epoch 2/20\n",
      "7152/7152 [==============================] - ETA: 0s - loss: 0.1672 - accuracy: 0.95 - 0s 49us/sample - loss: 0.1650 - accuracy: 0.9557\n",
      "Epoch 3/20\n",
      "7152/7152 [==============================] - 0s 51us/sample - loss: 0.1536 - accuracy: 0.9557\n",
      "Epoch 4/20\n",
      "7152/7152 [==============================] - 0s 51us/sample - loss: 0.1445 - accuracy: 0.9564\n",
      "Epoch 5/20\n",
      "7152/7152 [==============================] - 0s 50us/sample - loss: 0.1370 - accuracy: 0.9585\n",
      "Epoch 6/20\n",
      "7152/7152 [==============================] - 0s 48us/sample - loss: 0.1325 - accuracy: 0.9600\n",
      "Epoch 7/20\n",
      "7152/7152 [==============================] - 0s 48us/sample - loss: 0.1262 - accuracy: 0.9610\n",
      "Epoch 8/20\n",
      "7152/7152 [==============================] - 0s 49us/sample - loss: 0.1226 - accuracy: 0.9625\n",
      "Epoch 9/20\n",
      "7152/7152 [==============================] - 0s 48us/sample - loss: 0.1193 - accuracy: 0.9634\n",
      "Epoch 10/20\n",
      "7152/7152 [==============================] - 0s 48us/sample - loss: 0.1156 - accuracy: 0.9645\n",
      "Epoch 11/20\n",
      "7152/7152 [==============================] - 0s 49us/sample - loss: 0.1127 - accuracy: 0.9662\n",
      "Epoch 12/20\n",
      "7152/7152 [==============================] - 0s 48us/sample - loss: 0.1102 - accuracy: 0.9657\n",
      "Epoch 13/20\n",
      "7152/7152 [==============================] - 0s 48us/sample - loss: 0.1078 - accuracy: 0.9667s - loss: 0.1039 - accuracy\n",
      "Epoch 14/20\n",
      "7152/7152 [==============================] - 0s 49us/sample - loss: 0.1051 - accuracy: 0.9687\n",
      "Epoch 15/20\n",
      "7152/7152 [==============================] - 0s 47us/sample - loss: 0.1032 - accuracy: 0.9690\n",
      "Epoch 16/20\n",
      "7152/7152 [==============================] - 0s 51us/sample - loss: 0.1018 - accuracy: 0.9688\n",
      "Epoch 17/20\n",
      "7152/7152 [==============================] - 0s 51us/sample - loss: 0.0990 - accuracy: 0.9702\n",
      "Epoch 18/20\n",
      "7152/7152 [==============================] - 0s 51us/sample - loss: 0.0986 - accuracy: 0.9692\n",
      "Epoch 19/20\n",
      "7152/7152 [==============================] - 0s 49us/sample - loss: 0.0967 - accuracy: 0.9705\n",
      "Epoch 20/20\n",
      "7152/7152 [==============================] - 0s 54us/sample - loss: 0.0962 - accuracy: 0.9705\n",
      "Train on 7152 samples\n",
      "Epoch 1/20\n",
      "7152/7152 [==============================] - 1s 89us/sample - loss: 0.2917 - accuracy: 0.9448\n",
      "Epoch 2/20\n",
      "7152/7152 [==============================] - 0s 55us/sample - loss: 0.1741 - accuracy: 0.9474\n",
      "Epoch 3/20\n",
      "7152/7152 [==============================] - 0s 55us/sample - loss: 0.1607 - accuracy: 0.9502\n",
      "Epoch 4/20\n",
      "7152/7152 [==============================] - 0s 54us/sample - loss: 0.1497 - accuracy: 0.9523\n",
      "Epoch 5/20\n",
      "7152/7152 [==============================] - 0s 53us/sample - loss: 0.1415 - accuracy: 0.9546\n",
      "Epoch 6/20\n",
      "7152/7152 [==============================] - 0s 55us/sample - loss: 0.1350 - accuracy: 0.9558\n",
      "Epoch 7/20\n",
      "7152/7152 [==============================] - 0s 54us/sample - loss: 0.1303 - accuracy: 0.9575\n",
      "Epoch 8/20\n",
      "7152/7152 [==============================] - 0s 54us/sample - loss: 0.1247 - accuracy: 0.9604\n",
      "Epoch 9/20\n",
      "7152/7152 [==============================] - 0s 54us/sample - loss: 0.1194 - accuracy: 0.9627\n",
      "Epoch 10/20\n",
      "7152/7152 [==============================] - 0s 52us/sample - loss: 0.1167 - accuracy: 0.9631\n",
      "Epoch 11/20\n",
      "7152/7152 [==============================] - 0s 54us/sample - loss: 0.1131 - accuracy: 0.9649\n",
      "Epoch 12/20\n",
      "7152/7152 [==============================] - 0s 52us/sample - loss: 0.1093 - accuracy: 0.9671\n",
      "Epoch 13/20\n",
      "7152/7152 [==============================] - 0s 52us/sample - loss: 0.1066 - accuracy: 0.9660\n",
      "Epoch 14/20\n",
      "7152/7152 [==============================] - 0s 53us/sample - loss: 0.1032 - accuracy: 0.9688\n",
      "Epoch 15/20\n",
      "7152/7152 [==============================] - 0s 52us/sample - loss: 0.1001 - accuracy: 0.9699\n",
      "Epoch 16/20\n",
      "7152/7152 [==============================] - 0s 53us/sample - loss: 0.0978 - accuracy: 0.9694\n",
      "Epoch 17/20\n",
      "7152/7152 [==============================] - 0s 54us/sample - loss: 0.0954 - accuracy: 0.9704\n",
      "Epoch 18/20\n",
      "7152/7152 [==============================] - 0s 53us/sample - loss: 0.0922 - accuracy: 0.9704\n",
      "Epoch 19/20\n",
      "7152/7152 [==============================] - 0s 53us/sample - loss: 0.0906 - accuracy: 0.9713\n",
      "Epoch 20/20\n",
      "7152/7152 [==============================] - 0s 53us/sample - loss: 0.0889 - accuracy: 0.9709\n",
      "Train on 7152 samples\n",
      "Epoch 1/20\n",
      "7152/7152 [==============================] - 1s 89us/sample - loss: 0.2872 - accuracy: 0.9536\n",
      "Epoch 2/20\n",
      "7152/7152 [==============================] - 0s 50us/sample - loss: 0.1592 - accuracy: 0.9557\n",
      "Epoch 3/20\n",
      "7152/7152 [==============================] - 0s 50us/sample - loss: 0.1481 - accuracy: 0.9558\n",
      "Epoch 4/20\n",
      "7152/7152 [==============================] - 0s 53us/sample - loss: 0.1398 - accuracy: 0.9569\n",
      "Epoch 5/20\n",
      "7152/7152 [==============================] - 0s 55us/sample - loss: 0.1314 - accuracy: 0.9602\n",
      "Epoch 6/20\n",
      "7152/7152 [==============================] - 0s 54us/sample - loss: 0.1251 - accuracy: 0.9609\n",
      "Epoch 7/20\n",
      "7152/7152 [==============================] - 0s 53us/sample - loss: 0.1193 - accuracy: 0.9634\n",
      "Epoch 8/20\n",
      "7152/7152 [==============================] - 0s 55us/sample - loss: 0.1154 - accuracy: 0.9655\n",
      "Epoch 9/20\n",
      "7152/7152 [==============================] - 0s 55us/sample - loss: 0.1114 - accuracy: 0.9663\n",
      "Epoch 10/20\n",
      "7152/7152 [==============================] - 0s 54us/sample - loss: 0.1081 - accuracy: 0.9673\n",
      "Epoch 11/20\n",
      "7152/7152 [==============================] - 0s 56us/sample - loss: 0.1045 - accuracy: 0.9691\n",
      "Epoch 12/20\n",
      "7152/7152 [==============================] - 0s 54us/sample - loss: 0.1003 - accuracy: 0.9706\n",
      "Epoch 13/20\n",
      "7152/7152 [==============================] - 0s 56us/sample - loss: 0.1004 - accuracy: 0.9698\n",
      "Epoch 14/20\n",
      "7152/7152 [==============================] - 0s 54us/sample - loss: 0.0978 - accuracy: 0.9708\n",
      "Epoch 15/20\n",
      "7152/7152 [==============================] - 0s 55us/sample - loss: 0.0947 - accuracy: 0.9705\n",
      "Epoch 16/20\n"
     ]
    },
    {
     "name": "stdout",
     "output_type": "stream",
     "text": [
      "7152/7152 [==============================] - 0s 53us/sample - loss: 0.0932 - accuracy: 0.9716\n",
      "Epoch 17/20\n",
      "7152/7152 [==============================] - 0s 52us/sample - loss: 0.0904 - accuracy: 0.9712\n",
      "Epoch 18/20\n",
      "7152/7152 [==============================] - 0s 52us/sample - loss: 0.0877 - accuracy: 0.9726\n",
      "Epoch 19/20\n",
      "7152/7152 [==============================] - 0s 52us/sample - loss: 0.0865 - accuracy: 0.9734\n",
      "Epoch 20/20\n",
      "7152/7152 [==============================] - 0s 50us/sample - loss: 0.0840 - accuracy: 0.9732\n",
      "Train on 7152 samples\n",
      "Epoch 1/20\n",
      "7152/7152 [==============================] - 1s 83us/sample - loss: 0.3622 - accuracy: 0.9389\n",
      "Epoch 2/20\n",
      "7152/7152 [==============================] - 0s 49us/sample - loss: 0.1892 - accuracy: 0.9474\n",
      "Epoch 3/20\n",
      "7152/7152 [==============================] - 0s 50us/sample - loss: 0.1767 - accuracy: 0.9477\n",
      "Epoch 4/20\n",
      "7152/7152 [==============================] - 0s 48us/sample - loss: 0.1675 - accuracy: 0.9492\n",
      "Epoch 5/20\n",
      "7152/7152 [==============================] - 0s 47us/sample - loss: 0.1591 - accuracy: 0.9511\n",
      "Epoch 6/20\n",
      "7152/7152 [==============================] - 0s 49us/sample - loss: 0.1521 - accuracy: 0.9533\n",
      "Epoch 7/20\n",
      "7152/7152 [==============================] - 0s 49us/sample - loss: 0.1491 - accuracy: 0.9536\n",
      "Epoch 8/20\n",
      "7152/7152 [==============================] - 0s 50us/sample - loss: 0.1428 - accuracy: 0.9550\n",
      "Epoch 9/20\n",
      "7152/7152 [==============================] - 0s 49us/sample - loss: 0.1386 - accuracy: 0.9565\n",
      "Epoch 10/20\n",
      "7152/7152 [==============================] - 0s 49us/sample - loss: 0.1352 - accuracy: 0.9571\n",
      "Epoch 11/20\n",
      "7152/7152 [==============================] - 0s 51us/sample - loss: 0.1308 - accuracy: 0.9579\n",
      "Epoch 12/20\n",
      "7152/7152 [==============================] - 0s 49us/sample - loss: 0.1297 - accuracy: 0.9595\n",
      "Epoch 13/20\n",
      "7152/7152 [==============================] - 0s 48us/sample - loss: 0.1281 - accuracy: 0.9607\n",
      "Epoch 14/20\n",
      "7152/7152 [==============================] - 0s 50us/sample - loss: 0.1231 - accuracy: 0.9603\n",
      "Epoch 15/20\n",
      "7152/7152 [==============================] - 0s 48us/sample - loss: 0.1226 - accuracy: 0.9622\n",
      "Epoch 16/20\n",
      "7152/7152 [==============================] - 0s 48us/sample - loss: 0.1220 - accuracy: 0.9624\n",
      "Epoch 17/20\n",
      "7152/7152 [==============================] - 0s 50us/sample - loss: 0.1186 - accuracy: 0.9625\n",
      "Epoch 18/20\n",
      "7152/7152 [==============================] - 0s 50us/sample - loss: 0.1164 - accuracy: 0.9635\n",
      "Epoch 19/20\n",
      "7152/7152 [==============================] - 0s 49us/sample - loss: 0.1144 - accuracy: 0.9636\n",
      "Epoch 20/20\n",
      "7152/7152 [==============================] - 0s 50us/sample - loss: 0.1129 - accuracy: 0.9650\n",
      "Train on 7152 samples\n",
      "Epoch 1/20\n",
      "7152/7152 [==============================] - 1s 80us/sample - loss: 0.3510 - accuracy: 0.9471\n",
      "Epoch 2/20\n",
      "7152/7152 [==============================] - 0s 47us/sample - loss: 0.1741 - accuracy: 0.9557\n",
      "Epoch 3/20\n",
      "7152/7152 [==============================] - 0s 49us/sample - loss: 0.1609 - accuracy: 0.9557\n",
      "Epoch 4/20\n",
      "7152/7152 [==============================] - 0s 50us/sample - loss: 0.1517 - accuracy: 0.9562\n",
      "Epoch 5/20\n",
      "7152/7152 [==============================] - 0s 48us/sample - loss: 0.1424 - accuracy: 0.9581\n",
      "Epoch 6/20\n",
      "7152/7152 [==============================] - 0s 49us/sample - loss: 0.1367 - accuracy: 0.9606\n",
      "Epoch 7/20\n",
      "7152/7152 [==============================] - 0s 51us/sample - loss: 0.1339 - accuracy: 0.9611\n",
      "Epoch 8/20\n",
      "7152/7152 [==============================] - 0s 48us/sample - loss: 0.1296 - accuracy: 0.9618s - loss: 0.1303 - accuracy: \n",
      "Epoch 9/20\n",
      "7152/7152 [==============================] - 0s 49us/sample - loss: 0.1250 - accuracy: 0.9624\n",
      "Epoch 10/20\n",
      "7152/7152 [==============================] - 0s 48us/sample - loss: 0.1226 - accuracy: 0.9648\n",
      "Epoch 11/20\n",
      "7152/7152 [==============================] - 0s 49us/sample - loss: 0.1202 - accuracy: 0.9655\n",
      "Epoch 12/20\n",
      "7152/7152 [==============================] - 0s 49us/sample - loss: 0.1175 - accuracy: 0.9642\n",
      "Epoch 13/20\n",
      "7152/7152 [==============================] - 0s 49us/sample - loss: 0.1147 - accuracy: 0.9659\n",
      "Epoch 14/20\n",
      "7152/7152 [==============================] - 0s 49us/sample - loss: 0.1137 - accuracy: 0.9667\n",
      "Epoch 15/20\n",
      "7152/7152 [==============================] - 0s 50us/sample - loss: 0.1096 - accuracy: 0.9667s - loss: 0.1055 - accuracy\n",
      "Epoch 16/20\n",
      "7152/7152 [==============================] - 0s 48us/sample - loss: 0.1101 - accuracy: 0.9666\n",
      "Epoch 17/20\n",
      "7152/7152 [==============================] - 0s 49us/sample - loss: 0.1079 - accuracy: 0.9667\n",
      "Epoch 18/20\n",
      "7152/7152 [==============================] - 0s 49us/sample - loss: 0.1058 - accuracy: 0.9683\n",
      "Epoch 19/20\n",
      "7152/7152 [==============================] - 0s 48us/sample - loss: 0.1044 - accuracy: 0.9687\n",
      "Epoch 20/20\n",
      "7152/7152 [==============================] - 0s 49us/sample - loss: 0.1045 - accuracy: 0.9697\n",
      "Train on 7152 samples\n",
      "Epoch 1/20\n",
      "7152/7152 [==============================] - 1s 87us/sample - loss: 0.3067 - accuracy: 0.9431\n",
      "Epoch 2/20\n",
      "7152/7152 [==============================] - 0s 53us/sample - loss: 0.1774 - accuracy: 0.9476\n",
      "Epoch 3/20\n",
      "7152/7152 [==============================] - 0s 52us/sample - loss: 0.1648 - accuracy: 0.9499\n",
      "Epoch 4/20\n",
      "7152/7152 [==============================] - 0s 51us/sample - loss: 0.1543 - accuracy: 0.9525\n",
      "Epoch 5/20\n",
      "7152/7152 [==============================] - 0s 51us/sample - loss: 0.1456 - accuracy: 0.9539\n",
      "Epoch 6/20\n",
      "7152/7152 [==============================] - 0s 51us/sample - loss: 0.1393 - accuracy: 0.9553\n",
      "Epoch 7/20\n",
      "7152/7152 [==============================] - 0s 50us/sample - loss: 0.1343 - accuracy: 0.9576\n",
      "Epoch 8/20\n",
      "7152/7152 [==============================] - 0s 53us/sample - loss: 0.1297 - accuracy: 0.9586\n",
      "Epoch 9/20\n",
      "7152/7152 [==============================] - 0s 52us/sample - loss: 0.1245 - accuracy: 0.9604\n",
      "Epoch 10/20\n",
      "7152/7152 [==============================] - 0s 52us/sample - loss: 0.1202 - accuracy: 0.9618\n",
      "Epoch 11/20\n",
      "7152/7152 [==============================] - 0s 50us/sample - loss: 0.1190 - accuracy: 0.9624\n",
      "Epoch 12/20\n",
      "7152/7152 [==============================] - 0s 51us/sample - loss: 0.1144 - accuracy: 0.9634\n",
      "Epoch 13/20\n",
      "7152/7152 [==============================] - 0s 51us/sample - loss: 0.1137 - accuracy: 0.9655\n",
      "Epoch 14/20\n",
      "7152/7152 [==============================] - 0s 50us/sample - loss: 0.1087 - accuracy: 0.9667\n",
      "Epoch 15/20\n",
      "7152/7152 [==============================] - 0s 53us/sample - loss: 0.1071 - accuracy: 0.9660\n",
      "Epoch 16/20\n",
      "7152/7152 [==============================] - 0s 52us/sample - loss: 0.1041 - accuracy: 0.9664\n",
      "Epoch 17/20\n",
      "7152/7152 [==============================] - 0s 52us/sample - loss: 0.1019 - accuracy: 0.9681\n",
      "Epoch 18/20\n",
      "7152/7152 [==============================] - 0s 52us/sample - loss: 0.0997 - accuracy: 0.9683\n",
      "Epoch 19/20\n",
      "7152/7152 [==============================] - 0s 52us/sample - loss: 0.0967 - accuracy: 0.9690\n",
      "Epoch 20/20\n",
      "7152/7152 [==============================] - 0s 50us/sample - loss: 0.0970 - accuracy: 0.9705\n",
      "Train on 7152 samples\n",
      "Epoch 1/20\n",
      "7152/7152 [==============================] - 1s 88us/sample - loss: 0.2820 - accuracy: 0.9516\n",
      "Epoch 2/20\n",
      "7152/7152 [==============================] - 0s 54us/sample - loss: 0.1601 - accuracy: 0.9557\n",
      "Epoch 3/20\n",
      "7152/7152 [==============================] - 0s 52us/sample - loss: 0.1489 - accuracy: 0.9557\n",
      "Epoch 4/20\n",
      "7152/7152 [==============================] - 0s 51us/sample - loss: 0.1404 - accuracy: 0.9585\n",
      "Epoch 5/20\n",
      "7152/7152 [==============================] - 0s 54us/sample - loss: 0.1325 - accuracy: 0.9604\n",
      "Epoch 6/20\n",
      "7152/7152 [==============================] - 0s 55us/sample - loss: 0.1276 - accuracy: 0.9614\n",
      "Epoch 7/20\n",
      "7152/7152 [==============================] - 0s 54us/sample - loss: 0.1221 - accuracy: 0.9629\n",
      "Epoch 8/20\n",
      "7152/7152 [==============================] - 0s 58us/sample - loss: 0.1172 - accuracy: 0.9638\n",
      "Epoch 9/20\n",
      "7152/7152 [==============================] - 0s 56us/sample - loss: 0.1134 - accuracy: 0.9653\n",
      "Epoch 10/20\n",
      "7152/7152 [==============================] - ETA: 0s - loss: 0.1140 - accuracy: 0.96 - 0s 55us/sample - loss: 0.1126 - accuracy: 0.9656\n",
      "Epoch 11/20\n",
      "7152/7152 [==============================] - 0s 52us/sample - loss: 0.1099 - accuracy: 0.9653\n"
     ]
    },
    {
     "name": "stdout",
     "output_type": "stream",
     "text": [
      "Epoch 12/20\n",
      "7152/7152 [==============================] - 0s 53us/sample - loss: 0.1077 - accuracy: 0.9677\n",
      "Epoch 13/20\n",
      "7152/7152 [==============================] - 0s 53us/sample - loss: 0.1045 - accuracy: 0.9681\n",
      "Epoch 14/20\n",
      "7152/7152 [==============================] - 0s 53us/sample - loss: 0.1020 - accuracy: 0.9687\n",
      "Epoch 15/20\n",
      "7152/7152 [==============================] - 0s 55us/sample - loss: 0.1012 - accuracy: 0.9688\n",
      "Epoch 16/20\n",
      "7152/7152 [==============================] - 0s 55us/sample - loss: 0.0975 - accuracy: 0.9695\n",
      "Epoch 17/20\n",
      "7152/7152 [==============================] - 0s 54us/sample - loss: 0.0963 - accuracy: 0.9711\n",
      "Epoch 18/20\n",
      "7152/7152 [==============================] - 0s 54us/sample - loss: 0.0946 - accuracy: 0.9709\n",
      "Epoch 19/20\n",
      "7152/7152 [==============================] - 0s 52us/sample - loss: 0.0934 - accuracy: 0.9709\n",
      "Epoch 20/20\n",
      "7152/7152 [==============================] - 0s 53us/sample - loss: 0.0911 - accuracy: 0.9713\n",
      "Train on 14304 samples\n",
      "Epoch 1/20\n",
      "14304/14304 [==============================] - 1s 59us/sample - loss: 0.2351 - accuracy: 0.9488\n",
      "Epoch 2/20\n",
      "14304/14304 [==============================] - 1s 45us/sample - loss: 0.1520 - accuracy: 0.9541\n",
      "Epoch 3/20\n",
      "14304/14304 [==============================] - 1s 45us/sample - loss: 0.1387 - accuracy: 0.9571\n",
      "Epoch 4/20\n",
      "14304/14304 [==============================] - 1s 46us/sample - loss: 0.1286 - accuracy: 0.9604\n",
      "Epoch 5/20\n",
      "14304/14304 [==============================] - 1s 42us/sample - loss: 0.1244 - accuracy: 0.9611\n",
      "Epoch 6/20\n",
      "14304/14304 [==============================] - 1s 45us/sample - loss: 0.1182 - accuracy: 0.9633\n",
      "Epoch 7/20\n",
      "14304/14304 [==============================] - 1s 45us/sample - loss: 0.1140 - accuracy: 0.9644\n",
      "Epoch 8/20\n",
      "14304/14304 [==============================] - 1s 45us/sample - loss: 0.1099 - accuracy: 0.9658\n",
      "Epoch 9/20\n",
      "14304/14304 [==============================] - 1s 46us/sample - loss: 0.1066 - accuracy: 0.9669\n",
      "Epoch 10/20\n",
      "14304/14304 [==============================] - 1s 45us/sample - loss: 0.1036 - accuracy: 0.9673\n",
      "Epoch 11/20\n",
      "14304/14304 [==============================] - 1s 45us/sample - loss: 0.0999 - accuracy: 0.9688\n",
      "Epoch 12/20\n",
      "14304/14304 [==============================] - 1s 45us/sample - loss: 0.0979 - accuracy: 0.9694\n",
      "Epoch 13/20\n",
      "14304/14304 [==============================] - 1s 45us/sample - loss: 0.0952 - accuracy: 0.9697\n",
      "Epoch 14/20\n",
      "14304/14304 [==============================] - 1s 46us/sample - loss: 0.0931 - accuracy: 0.9706\n",
      "Epoch 15/20\n",
      "14304/14304 [==============================] - 1s 46us/sample - loss: 0.0907 - accuracy: 0.9711\n",
      "Epoch 16/20\n",
      "14304/14304 [==============================] - 1s 44us/sample - loss: 0.0890 - accuracy: 0.9718\n",
      "Epoch 17/20\n",
      "14304/14304 [==============================] - 1s 45us/sample - loss: 0.0848 - accuracy: 0.9725\n",
      "Epoch 18/20\n",
      "14304/14304 [==============================] - 1s 46us/sample - loss: 0.0841 - accuracy: 0.9732\n",
      "Epoch 19/20\n",
      "14304/14304 [==============================] - 1s 45us/sample - loss: 0.0805 - accuracy: 0.9739\n",
      "Epoch 20/20\n",
      "14304/14304 [==============================] - 1s 44us/sample - loss: 0.0778 - accuracy: 0.9745\n"
     ]
    },
    {
     "data": {
      "text/plain": [
       "GridSearchCV(cv=2, error_score=nan,\n",
       "             estimator=<tensorflow.python.keras.wrappers.scikit_learn.KerasClassifier object at 0x0000022DFF3271C8>,\n",
       "             iid='deprecated', n_jobs=None,\n",
       "             param_grid={'dropout': [0.2, 0.4], 'epochs': [20],\n",
       "                         'input_size': [300], 'n_size': [64, 128],\n",
       "                         'optimizer': ['adam']},\n",
       "             pre_dispatch='2*n_jobs', refit=True, return_train_score=False,\n",
       "             scoring='roc_auc', verbose=0)"
      ]
     },
     "execution_count": 258,
     "metadata": {},
     "output_type": "execute_result"
    }
   ],
   "source": [
    "keras_grid.fit(X_train, y_train, callbacks =[es])"
   ]
  },
  {
   "cell_type": "code",
   "execution_count": 259,
   "metadata": {},
   "outputs": [
    {
     "data": {
      "text/plain": [
       "{'dropout': 0.2,\n",
       " 'epochs': 20,\n",
       " 'input_size': 300,\n",
       " 'n_size': 128,\n",
       " 'optimizer': 'adam',\n",
       " 'build_fn': <function __main__.get_model(dropout, n_size, input_size, optimizer)>}"
      ]
     },
     "execution_count": 259,
     "metadata": {},
     "output_type": "execute_result"
    }
   ],
   "source": [
    "keras_grid.best_estimator_.get_params()"
   ]
  },
  {
   "cell_type": "code",
   "execution_count": 260,
   "metadata": {},
   "outputs": [
    {
     "name": "stdout",
     "output_type": "stream",
     "text": [
      "AUC: 0.91355\n",
      "Precision: 0.76\n",
      "Recall: 0.43931\n"
     ]
    },
    {
     "data": {
      "image/png": "[encoded data removed]",
      "text/plain": [
       "<Figure size 432x288 with 2 Axes>"
      ]
     },
     "metadata": {},
     "output_type": "display_data"
    }
   ],
   "source": [
    "get_metrics(keras_grid)"
   ]
  },
  {
   "cell_type": "markdown",
   "metadata": {},
   "source": [
    "# LSTM/GRU"
   ]
  },
  {
   "cell_type": "code",
   "execution_count": 261,
   "metadata": {},
   "outputs": [],
   "source": [
    "from tensorflow.keras.layers import LSTM, GRU, SpatialDropout1D, Embedding, Bidirectional, GlobalMaxPool1D, GlobalAvgPool1D\n",
    "from tensorflow.keras.layers import concatenate\n",
    "import tqdm\n",
    "from tensorflow.keras.preprocessing.text import Tokenizer\n",
    "from tensorflow.keras.preprocessing import sequence"
   ]
  },
  {
   "cell_type": "code",
   "execution_count": 268,
   "metadata": {},
   "outputs": [],
   "source": [
    "max_features = 30000 #max number of words to include\n",
    "max_len = 300 #max length of a sentence\n",
    "embed_size = 300 #FB FastText embedding size\n",
    "\n",
    "keras_tokenizer = Tokenizer(num_words=max_features) #max number of words to include from dictionary\n",
    "keras_tokenizer.fit_on_texts(lemma_tokens) \n",
    "\n",
    "X = keras_tokenizer.texts_to_sequences(data['final_descriptions'])\n",
    "X = sequence.pad_sequences(X, maxlen=max_len)\n",
    "\n",
    "#keras_tokenizer.word_index an index of words sorted by most common\n",
    "word_index = keras_tokenizer.word_index\n",
    "\n",
    "#embed matrix will be an (X x p) matrix:\n",
    "    #X: top-X most common words to include \n",
    "    #p: embedding size = 300\n",
    "\n",
    "nb_words = min(max_features, len(word_index))\n",
    "    \n",
    "embed_matrix = np.zeros((nb_words, embed_size))\n",
    "\n",
    "for word, i in word_index.items():\n",
    "    if i >= nb_words: \n",
    "        continue\n",
    "    try:\n",
    "        embed_vector = fb_model.get_vector(word)\n",
    "    except:\n",
    "        embed_vector = None\n",
    "    \n",
    "    if embed_vector is not None:\n",
    "        embed_matrix[i] = embed_vector"
   ]
  },
  {
   "cell_type": "code",
   "execution_count": 313,
   "metadata": {},
   "outputs": [],
   "source": [
    "X_train, X_test, y_train, y_test = train_test_split(X, y, test_size=.2, random_state = 1000, stratify=y)"
   ]
  },
  {
   "cell_type": "code",
   "execution_count": 331,
   "metadata": {},
   "outputs": [],
   "source": [
    "def get_LSTM_GRU_model(dropout, n_size, use_GRU: False):\n",
    "    inp = Input(shape=(max_len,)) #length of sentence\n",
    "    \n",
    "    x=Embedding(max_features, embed_size, weights=[embed_matrix])(inp)\n",
    "    x=Dense(n_size, activation='relu')(x)\n",
    "    x=SpatialDropout1D(dropout)(x)\n",
    "    \n",
    "    if use_GRU:\n",
    "        x=Bidirectional(GRU(n_size, return_sequences=True))(x)\n",
    "    else:    \n",
    "        x=Bidirectional(LSTM(n_size, return_sequences=True))(x)\n",
    "    \n",
    "    avg_pool = GlobalAvgPool1D()(x)\n",
    "    max_pool = GlobalMaxPool1D()(x)\n",
    "    \n",
    "    conc = concatenate([avg_pool, max_pool])\n",
    "    outp = Dense(1, activation='sigmoid')(conc)\n",
    "    \n",
    "    model = Model(inputs=inp, outputs=outp)\n",
    "    model.compile(loss='binary_crossentropy',\n",
    "                 optimizer='adam',\n",
    "                 metrics=['accuracy'])\n",
    "    \n",
    "    return model\n",
    "    "
   ]
  },
  {
   "cell_type": "code",
   "execution_count": 332,
   "metadata": {},
   "outputs": [],
   "source": [
    "lstm_mod = get_LSTM_GRU_model(.2, 64, False)"
   ]
  },
  {
   "cell_type": "code",
   "execution_count": 333,
   "metadata": {},
   "outputs": [
    {
     "name": "stdout",
     "output_type": "stream",
     "text": [
      "Train on 14304 samples\n",
      "Epoch 1/2\n",
      "14304/14304 [==============================] - 136s 10ms/sample - loss: 0.1608 - accuracy: 0.9554\n",
      "Epoch 2/2\n",
      "14304/14304 [==============================] - 140s 10ms/sample - loss: 0.0725 - accuracy: 0.9790\n"
     ]
    },
    {
     "data": {
      "text/plain": [
       "<tensorflow.python.keras.callbacks.History at 0x22dfe9332c8>"
      ]
     },
     "execution_count": 333,
     "metadata": {},
     "output_type": "execute_result"
    }
   ],
   "source": [
    "lstm_mod.fit(X_train, y_train, batch_size=32, epochs = 2)"
   ]
  },
  {
   "cell_type": "code",
   "execution_count": 334,
   "metadata": {},
   "outputs": [],
   "source": [
    "lstm_predictions = lstm_mod.predict(X_test, batch_size=1024)"
   ]
  },
  {
   "cell_type": "code",
   "execution_count": 335,
   "metadata": {},
   "outputs": [
    {
     "data": {
      "text/plain": [
       "0.9626680980229956"
      ]
     },
     "execution_count": 335,
     "metadata": {},
     "output_type": "execute_result"
    }
   ],
   "source": [
    "roc_auc_score(y_test, lstm_predictions)"
   ]
  },
  {
   "cell_type": "code",
   "execution_count": 336,
   "metadata": {},
   "outputs": [],
   "source": [
    "def predict_threshold(preds, threshold):\n",
    "    \n",
    "    temp = preds.flatten()\n",
    "    temp = np.array(temp > threshold, dtype=int)\n",
    "    \n",
    "    return temp\n",
    "    "
   ]
  },
  {
   "cell_type": "code",
   "execution_count": 337,
   "metadata": {},
   "outputs": [
    {
     "name": "stdout",
     "output_type": "stream",
     "text": [
      "0.0\n",
      "Precision: 0.04837807606263982\n",
      "Recall: 1.0\n",
      "Total: 1.0483780760626398\n",
      "\n",
      "\n",
      "0.125\n",
      "Precision: 0.6088888888888889\n",
      "Recall: 0.791907514450867\n",
      "Total: 1.400796403339756\n",
      "\n",
      "\n",
      "0.25\n",
      "Precision: 0.7610062893081762\n",
      "Recall: 0.6994219653179191\n",
      "Total: 1.4604282546260952\n",
      "\n",
      "\n",
      "0.375\n",
      "Precision: 0.8333333333333334\n",
      "Recall: 0.6936416184971098\n",
      "Total: 1.5269749518304432\n",
      "\n",
      "\n",
      "0.5\n",
      "Precision: 0.9126984126984127\n",
      "Recall: 0.6647398843930635\n",
      "Total: 1.5774382970914762\n",
      "\n",
      "\n",
      "0.625\n",
      "Precision: 0.956140350877193\n",
      "Recall: 0.630057803468208\n",
      "Total: 1.586198154345401\n",
      "\n",
      "\n",
      "0.75\n",
      "Precision: 0.9901960784313726\n",
      "Recall: 0.5838150289017341\n",
      "Total: 1.5740111073331067\n",
      "\n",
      "\n",
      "0.875\n",
      "Precision: 1.0\n",
      "Recall: 0.5260115606936416\n",
      "Total: 1.5260115606936417\n",
      "\n",
      "\n",
      "1.0\n",
      "Precision: 0.0\n",
      "Recall: 0.0\n",
      "Total: 0.0\n",
      "\n",
      "\n"
     ]
    },
    {
     "name": "stderr",
     "output_type": "stream",
     "text": [
      "C:\\Users\\lzeng\\AppData\\Local\\Continuum\\anaconda3\\envs\\nlp\\lib\\site-packages\\sklearn\\metrics\\_classification.py:1272: UndefinedMetricWarning: Precision is ill-defined and being set to 0.0 due to no predicted samples. Use `zero_division` parameter to control this behavior.\n",
      "  _warn_prf(average, modifier, msg_start, len(result))\n"
     ]
    }
   ],
   "source": [
    "for i in np.linspace(0, 1, 9):\n",
    "    print(i)\n",
    "    prec_score = precision_score(y_test, predict_threshold(lstm_predictions, i))\n",
    "    rec_score = recall_score(y_test, predict_threshold(lstm_predictions, i))\n",
    "    total = prec_score + rec_score\n",
    "    print('Precision:', prec_score)\n",
    "    print('Recall:', rec_score)\n",
    "    print('Total:', total)\n",
    "    print('\\n')"
   ]
  },
  {
   "cell_type": "code",
   "execution_count": 340,
   "metadata": {},
   "outputs": [
    {
     "name": "stdout",
     "output_type": "stream",
     "text": [
      "ROC AUC: 0.9626680980229956\n",
      "Precision: 0.9126984126984127\n",
      "Recall: 0.6647398843930635\n"
     ]
    },
    {
     "data": {
      "image/png": "[encoded data removed]",
      "text/plain": [
       "<Figure size 432x288 with 2 Axes>"
      ]
     },
     "metadata": {},
     "output_type": "display_data"
    }
   ],
   "source": [
    "lstm_cm = confusion_matrix(y_test, predict_threshold(lstm_predictions, .5))\n",
    "sns.heatmap(lstm_cm, annot=True, fmt = 'd', cmap = 'Blues');\n",
    "\n",
    "print(\"ROC AUC:\", roc_auc_score(y_test, lstm_predictions))\n",
    "print(\"Precision:\", precision_score(y_test, predict_threshold(lstm_predictions, .5)))\n",
    "print(\"Recall:\", recall_score(y_test, predict_threshold(lstm_predictions, .5)))"
   ]
  },
  {
   "cell_type": "markdown",
   "metadata": {},
   "source": [
    "# Trial 2:"
   ]
  },
  {
   "cell_type": "code",
   "execution_count": 346,
   "metadata": {},
   "outputs": [],
   "source": [
    "def get_LSTM_GRU_model(dropout, n_size, use_GRU: False):\n",
    "    inp = Input(shape=(max_len,)) #length of sentence\n",
    "    \n",
    "    x=Embedding(max_features, embed_size, weights=[embed_matrix])(inp)\n",
    "    x=Dense(n_size, activation='relu')(x)\n",
    "    x=SpatialDropout1D(dropout)(x)\n",
    "    \n",
    "    if use_GRU:\n",
    "        x=Bidirectional(GRU(n_size, return_sequences=True))(x)\n",
    "    else:    \n",
    "        x=Bidirectional(LSTM(n_size, return_sequences=True))(x)\n",
    "    \n",
    "    avg_pool = GlobalAvgPool1D()(x)\n",
    "    max_pool = GlobalMaxPool1D()(x)\n",
    "    \n",
    "    conc = concatenate([avg_pool, max_pool])\n",
    "    outp = Dense(1, activation='sigmoid')(conc)\n",
    "    \n",
    "    model = Model(inputs=inp, outputs=outp)\n",
    "    model.compile(loss='binary_crossentropy',\n",
    "                 optimizer='adam',\n",
    "                 metrics=['accuracy'])\n",
    "    \n",
    "    return model\n",
    "    "
   ]
  },
  {
   "cell_type": "code",
   "execution_count": 347,
   "metadata": {},
   "outputs": [],
   "source": [
    "model_2 = get_LSTM_GRU_model(.2, 64, True)"
   ]
  },
  {
   "cell_type": "code",
   "execution_count": 348,
   "metadata": {},
   "outputs": [
    {
     "name": "stdout",
     "output_type": "stream",
     "text": [
      "Train on 14304 samples\n",
      "Epoch 1/2\n",
      "14304/14304 [==============================] - 134s 9ms/sample - loss: 0.1632 - accuracy: 0.9530\n",
      "Epoch 2/2\n",
      "14304/14304 [==============================] - 134s 9ms/sample - loss: 0.0744 - accuracy: 0.9780\n"
     ]
    },
    {
     "data": {
      "text/plain": [
       "<tensorflow.python.keras.callbacks.History at 0x22df66a2148>"
      ]
     },
     "execution_count": 348,
     "metadata": {},
     "output_type": "execute_result"
    }
   ],
   "source": [
    "model_2.fit(X_train, y_train, batch_size=32, epochs=2)"
   ]
  },
  {
   "cell_type": "code",
   "execution_count": 352,
   "metadata": {},
   "outputs": [],
   "source": [
    "gru_predictions = model_2.predict(X_test, batch_size=1024)"
   ]
  },
  {
   "cell_type": "code",
   "execution_count": 356,
   "metadata": {},
   "outputs": [
    {
     "data": {
      "text/plain": [
       "0.9627903974561718"
      ]
     },
     "execution_count": 356,
     "metadata": {},
     "output_type": "execute_result"
    }
   ],
   "source": [
    "roc_auc_score(y_test, gru_predictions)"
   ]
  },
  {
   "cell_type": "code",
   "execution_count": 357,
   "metadata": {},
   "outputs": [
    {
     "name": "stdout",
     "output_type": "stream",
     "text": [
      "0.0\n",
      "Precision: 0.04837807606263982\n",
      "Recall: 1.0\n",
      "Total: 1.0483780760626398\n",
      "\n",
      "\n",
      "0.125\n",
      "Precision: 0.6088888888888889\n",
      "Recall: 0.791907514450867\n",
      "Total: 1.400796403339756\n",
      "\n",
      "\n",
      "0.25\n",
      "Precision: 0.7610062893081762\n",
      "Recall: 0.6994219653179191\n",
      "Total: 1.4604282546260952\n",
      "\n",
      "\n",
      "0.375\n",
      "Precision: 0.8333333333333334\n",
      "Recall: 0.6936416184971098\n",
      "Total: 1.5269749518304432\n",
      "\n",
      "\n",
      "0.5\n",
      "Precision: 0.9126984126984127\n",
      "Recall: 0.6647398843930635\n",
      "Total: 1.5774382970914762\n",
      "\n",
      "\n",
      "0.625\n",
      "Precision: 0.956140350877193\n",
      "Recall: 0.630057803468208\n",
      "Total: 1.586198154345401\n",
      "\n",
      "\n",
      "0.75\n",
      "Precision: 0.9901960784313726\n",
      "Recall: 0.5838150289017341\n",
      "Total: 1.5740111073331067\n",
      "\n",
      "\n",
      "0.875\n",
      "Precision: 1.0\n",
      "Recall: 0.5260115606936416\n",
      "Total: 1.5260115606936417\n",
      "\n",
      "\n",
      "1.0\n",
      "Precision: 0.0\n",
      "Recall: 0.0\n",
      "Total: 0.0\n",
      "\n",
      "\n"
     ]
    },
    {
     "name": "stderr",
     "output_type": "stream",
     "text": [
      "C:\\Users\\lzeng\\AppData\\Local\\Continuum\\anaconda3\\envs\\nlp\\lib\\site-packages\\sklearn\\metrics\\_classification.py:1272: UndefinedMetricWarning: Precision is ill-defined and being set to 0.0 due to no predicted samples. Use `zero_division` parameter to control this behavior.\n",
      "  _warn_prf(average, modifier, msg_start, len(result))\n"
     ]
    }
   ],
   "source": [
    "for i in np.linspace(0, 1, 9):\n",
    "    print(i)\n",
    "    prec_score = precision_score(y_test, predict_threshold(lstm_predictions, i))\n",
    "    rec_score = recall_score(y_test, predict_threshold(lstm_predictions, i))\n",
    "    total = prec_score + rec_score\n",
    "    print('Precision:', prec_score)\n",
    "    print('Recall:', rec_score)\n",
    "    print('Total:', total)\n",
    "    print('\\n')"
   ]
  },
  {
   "cell_type": "code",
   "execution_count": 358,
   "metadata": {},
   "outputs": [
    {
     "name": "stdout",
     "output_type": "stream",
     "text": [
      "ROC AUC: 0.9627903974561718\n",
      "Precision: 0.8432835820895522\n",
      "Recall: 0.653179190751445\n"
     ]
    },
    {
     "data": {
      "image/png": "[encoded data removed]",
      "text/plain": [
       "<Figure size 432x288 with 2 Axes>"
      ]
     },
     "metadata": {},
     "output_type": "display_data"
    }
   ],
   "source": [
    "gru_cm = confusion_matrix(y_test, predict_threshold(gru_predictions, .625))\n",
    "sns.heatmap(gru_cm, annot=True, fmt = 'd', cmap = 'Blues');\n",
    "\n",
    "print(\"ROC AUC:\", roc_auc_score(y_test, gru_predictions))\n",
    "print(\"Precision:\", precision_score(y_test, predict_threshold(gru_predictions, .625)))\n",
    "print(\"Recall:\", recall_score(y_test, predict_threshold(gru_predictions, .625)))"
   ]
  },
  {
   "cell_type": "code",
   "execution_count": null,
   "metadata": {},
   "outputs": [],
   "source": []
  }
 ],
 "metadata": {
  "kernelspec": {
   "display_name": "Python 3",
   "language": "python",
   "name": "python3"
  },
  "language_info": {
   "codemirror_mode": {
    "name": "ipython",
    "version": 3
   },
   "file_extension": ".py",
   "mimetype": "text/x-python",
   "name": "python",
   "nbconvert_exporter": "python",
   "pygments_lexer": "ipython3",
   "version": "3.7.7"
  }
 },
 "nbformat": 4,
 "nbformat_minor": 4
}
